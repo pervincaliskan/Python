{
 "cells": [
  {
   "cell_type": "code",
   "execution_count": 1,
   "id": "3feefb70",
   "metadata": {},
   "outputs": [
    {
     "name": "stdout",
     "output_type": "stream",
     "text": [
      "Matematik\n",
      "Fizik\n",
      "Kimya\n",
      "Biyoloji\n"
     ]
    }
   ],
   "source": [
    "# Dersler listesindeki her dersi yazdıralım.\n",
    "dersler = [\"Matematik\", \"Fizik\", \"Kimya\",\"Biyoloji\"]\n",
    "for x in dersler:\n",
    "  print(x)\n",
    " \n"
   ]
  },
  {
   "cell_type": "code",
   "execution_count": 2,
   "id": "48865b28",
   "metadata": {},
   "outputs": [
    {
     "name": "stdout",
     "output_type": "stream",
     "text": [
      "P\n",
      "Y\n",
      "T\n",
      "H\n",
      "O\n",
      "N\n"
     ]
    }
   ],
   "source": [
    "#Pythonda For Döngüsü ile bir metnin karakterleri arasında dolaşmak mümkündür.\n",
    "for x in \"PYTHON\":\n",
    "    print (x)\n",
    " "
   ]
  },
  {
   "cell_type": "code",
   "execution_count": 3,
   "id": "71838fbc",
   "metadata": {},
   "outputs": [
    {
     "name": "stdout",
     "output_type": "stream",
     "text": [
      "Matematik\n",
      "Fizik\n"
     ]
    }
   ],
   "source": [
    "#Break ifadesiyle, döngüyü tüm öğeler arasında dolaşmadan önce durdurabiliriz.\n",
    "dersler = [\"Matematik\", \"Fizik\", \"Kimya\",\"Biyoloji\"]\n",
    "for x in dersler:\n",
    "  print(x)\n",
    "  if x==\"Fizik\":\n",
    "      break"
   ]
  },
  {
   "cell_type": "code",
   "execution_count": 4,
   "id": "db7980c7",
   "metadata": {},
   "outputs": [
    {
     "name": "stdout",
     "output_type": "stream",
     "text": [
      "Matematik\n",
      "Kimya\n",
      "Biyoloji\n"
     ]
    }
   ],
   "source": [
    "#continue ifadesi ile döngünün geçerli yinelemesini durdurabilir ve sonraki adımla devam edebiliriz.\n",
    "dersler = [\"Matematik\", \"Fizik\", \"Kimya\",\"Biyoloji\"]\n",
    "for x in dersler:\n",
    "    if x==\"Fizik\":\n",
    "        continue\n",
    "    print (x)\n",
    " "
   ]
  },
  {
   "cell_type": "code",
   "execution_count": 5,
   "id": "f5b6f66b",
   "metadata": {},
   "outputs": [
    {
     "name": "stdout",
     "output_type": "stream",
     "text": [
      "0\n",
      "1\n",
      "2\n",
      "3\n",
      "4\n",
      "5\n"
     ]
    }
   ],
   "source": [
    "\"\"\" Belirli bir sayıda kod kümesi arasında dolaşmak için, range () işlevini kullanabiliriz,\n",
    "range () işlevi varsayılan olarak 0’dan başlayarak ve 1 (varsayılan olarak) artışlarla belirtilen sayıda bitiyor.\"\"\"\n",
    "for x in range(6):\n",
    "  print(x)"
   ]
  },
  {
   "cell_type": "code",
   "execution_count": 6,
   "id": "73244fff",
   "metadata": {},
   "outputs": [
    {
     "name": "stdout",
     "output_type": "stream",
     "text": [
      "2\n",
      "3\n",
      "4\n",
      "5\n"
     ]
    }
   ],
   "source": [
    "for x in range(2,6):\n",
    "  print(x)"
   ]
  },
  {
   "cell_type": "code",
   "execution_count": 7,
   "id": "90cfd4ae",
   "metadata": {},
   "outputs": [
    {
     "name": "stdout",
     "output_type": "stream",
     "text": [
      "0\n",
      "1\n",
      "2\n",
      "3\n",
      "4\n",
      "5\n",
      "Döngü bitti!\n"
     ]
    }
   ],
   "source": [
    "#Python For Döngüsü else Kullanımı\n",
    "#Bir for döngüsünde else anahtar sözcüğü döngü bittiğinde yürütülecek kod bloğunu belirtir:\n",
    "for x in range(6):\n",
    "  print(x)\n",
    "else:\n",
    "  print(\"Döngü bitti!\")"
   ]
  },
  {
   "cell_type": "code",
   "execution_count": 8,
   "id": "5549f1da",
   "metadata": {},
   "outputs": [
    {
     "name": "stdout",
     "output_type": "stream",
     "text": [
      "Ders 1 Konu 1\n",
      "Ders 1 Konu 2\n",
      "Ders 1 Konu 3\n",
      "Ders 2 Konu 1\n",
      "Ders 2 Konu 2\n",
      "Ders 2 Konu 3\n",
      "Ders 3 Konu 1\n",
      "Ders 3 Konu 2\n",
      "Ders 3 Konu 3\n"
     ]
    }
   ],
   "source": [
    "\"\"\"Python İç İçe For Döngüsü Kullanımı\n",
    "İç içe bir döngü, döngü içine eklenmiş bir döngüdür. İki, üç ya da daha fazla olabilir.\n",
    "\n",
    "‘İç döngü’, ‘dış döngü’ nün her bir yinelemesi için bir kez gerçekleştirilir:\"\"\"\n",
    " \n",
    "dersler = [\"Ders 1\", \"Ders 2\", \"Ders 3\"]\n",
    "konular = [\"Konu 1\", \"Konu 2\", \"Konu 3\"]\n",
    " \n",
    "for x in dersler:\n",
    "  for y in konular:\n",
    "    print(x, y)\n",
    " "
   ]
  },
  {
   "cell_type": "code",
   "execution_count": 9,
   "id": "e6d309cb",
   "metadata": {},
   "outputs": [
    {
     "name": "stdout",
     "output_type": "stream",
     "text": [
      "1 x 1 = 1\n",
      "1 x 2 = 2\n",
      "1 x 3 = 3\n",
      "1 x 4 = 4\n",
      "1 x 5 = 5\n",
      "1 x 6 = 6\n",
      "1 x 7 = 7\n",
      "1 x 8 = 8\n",
      "1 x 9 = 9\n",
      "1 x 10 = 10\n",
      "2 x 1 = 2\n",
      "2 x 2 = 4\n",
      "2 x 3 = 6\n",
      "2 x 4 = 8\n",
      "2 x 5 = 10\n",
      "2 x 6 = 12\n",
      "2 x 7 = 14\n",
      "2 x 8 = 16\n",
      "2 x 9 = 18\n",
      "2 x 10 = 20\n",
      "3 x 1 = 3\n",
      "3 x 2 = 6\n",
      "3 x 3 = 9\n",
      "3 x 4 = 12\n",
      "3 x 5 = 15\n",
      "3 x 6 = 18\n",
      "3 x 7 = 21\n",
      "3 x 8 = 24\n",
      "3 x 9 = 27\n",
      "3 x 10 = 30\n",
      "4 x 1 = 4\n",
      "4 x 2 = 8\n",
      "4 x 3 = 12\n",
      "4 x 4 = 16\n",
      "4 x 5 = 20\n",
      "4 x 6 = 24\n",
      "4 x 7 = 28\n",
      "4 x 8 = 32\n",
      "4 x 9 = 36\n",
      "4 x 10 = 40\n",
      "5 x 1 = 5\n",
      "5 x 2 = 10\n",
      "5 x 3 = 15\n",
      "5 x 4 = 20\n",
      "5 x 5 = 25\n",
      "5 x 6 = 30\n",
      "5 x 7 = 35\n",
      "5 x 8 = 40\n",
      "5 x 9 = 45\n",
      "5 x 10 = 50\n",
      "6 x 1 = 6\n",
      "6 x 2 = 12\n",
      "6 x 3 = 18\n",
      "6 x 4 = 24\n",
      "6 x 5 = 30\n",
      "6 x 6 = 36\n",
      "6 x 7 = 42\n",
      "6 x 8 = 48\n",
      "6 x 9 = 54\n",
      "6 x 10 = 60\n",
      "7 x 1 = 7\n",
      "7 x 2 = 14\n",
      "7 x 3 = 21\n",
      "7 x 4 = 28\n",
      "7 x 5 = 35\n",
      "7 x 6 = 42\n",
      "7 x 7 = 49\n",
      "7 x 8 = 56\n",
      "7 x 9 = 63\n",
      "7 x 10 = 70\n",
      "8 x 1 = 8\n",
      "8 x 2 = 16\n",
      "8 x 3 = 24\n",
      "8 x 4 = 32\n",
      "8 x 5 = 40\n",
      "8 x 6 = 48\n",
      "8 x 7 = 56\n",
      "8 x 8 = 64\n",
      "8 x 9 = 72\n",
      "8 x 10 = 80\n",
      "9 x 1 = 9\n",
      "9 x 2 = 18\n",
      "9 x 3 = 27\n",
      "9 x 4 = 36\n",
      "9 x 5 = 45\n",
      "9 x 6 = 54\n",
      "9 x 7 = 63\n",
      "9 x 8 = 72\n",
      "9 x 9 = 81\n",
      "9 x 10 = 90\n",
      "10 x 1 = 10\n",
      "10 x 2 = 20\n",
      "10 x 3 = 30\n",
      "10 x 4 = 40\n",
      "10 x 5 = 50\n",
      "10 x 6 = 60\n",
      "10 x 7 = 70\n",
      "10 x 8 = 80\n",
      "10 x 9 = 90\n",
      "10 x 10 = 100\n"
     ]
    }
   ],
   "source": [
    "for x in range(1,11):\n",
    "  for y in range(1,11):\n",
    "    print(x,\"x\", y,\"=\",x*y)"
   ]
  },
  {
   "cell_type": "code",
   "execution_count": null,
   "id": "bd12766a",
   "metadata": {},
   "outputs": [],
   "source": []
  },
  {
   "cell_type": "code",
   "execution_count": null,
   "id": "7f36b3dc",
   "metadata": {},
   "outputs": [],
   "source": []
  }
 ],
 "metadata": {
  "kernelspec": {
   "display_name": "Python 3 (ipykernel)",
   "language": "python",
   "name": "python3"
  },
  "language_info": {
   "codemirror_mode": {
    "name": "ipython",
    "version": 3
   },
   "file_extension": ".py",
   "mimetype": "text/x-python",
   "name": "python",
   "nbconvert_exporter": "python",
   "pygments_lexer": "ipython3",
   "version": "3.9.7"
  }
 },
 "nbformat": 4,
 "nbformat_minor": 5
}
