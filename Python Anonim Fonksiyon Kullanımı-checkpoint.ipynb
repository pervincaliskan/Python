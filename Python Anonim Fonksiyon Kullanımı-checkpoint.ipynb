{
 "cells": [
  {
   "cell_type": "code",
   "execution_count": 1,
   "id": "4b86bdbd",
   "metadata": {},
   "outputs": [
    {
     "name": "stdout",
     "output_type": "stream",
     "text": [
      "15\n"
     ]
    }
   ],
   "source": [
    "\"\"\"lambda arguments : ifade\n",
    "\n",
    "İfade yürütülür ve sonuç döndürülür:\n",
    "\n",
    "Örnek: Bir argüman olarak iletilen sayıya 10 ekleyen ve sonucu yazdıran bir lambda işlevi:\"\"\"\n",
    "x = lambda a : a + 10\n",
    "print(x(5))"
   ]
  },
  {
   "cell_type": "code",
   "execution_count": 2,
   "id": "ad8e2fe6",
   "metadata": {},
   "outputs": [
    {
     "name": "stdout",
     "output_type": "stream",
     "text": [
      "33\n"
     ]
    }
   ],
   "source": [
    "#Örnek: Veya, her zaman gönderdiğiniz sayıyı üçe katlayan bir işlev yapmak için aynı işlev tanımını kullanın:\n",
    "\n",
    " \n",
    "def myfunc(n):\n",
    "  return lambda a : a * n\n",
    " \n",
    "mytripler = myfunc(3)\n",
    " \n",
    "print(mytripler(11))\n",
    " "
   ]
  },
  {
   "cell_type": "code",
   "execution_count": null,
   "id": "f2fc95d0",
   "metadata": {},
   "outputs": [],
   "source": []
  }
 ],
 "metadata": {
  "kernelspec": {
   "display_name": "Python 3 (ipykernel)",
   "language": "python",
   "name": "python3"
  },
  "language_info": {
   "codemirror_mode": {
    "name": "ipython",
    "version": 3
   },
   "file_extension": ".py",
   "mimetype": "text/x-python",
   "name": "python",
   "nbconvert_exporter": "python",
   "pygments_lexer": "ipython3",
   "version": "3.9.7"
  }
 },
 "nbformat": 4,
 "nbformat_minor": 5
}
