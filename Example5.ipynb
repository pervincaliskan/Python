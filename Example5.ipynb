{
 "cells": [
  {
   "cell_type": "code",
   "execution_count": 1,
   "id": "fc36151e-1223-4fce-9612-031b30952a4e",
   "metadata": {},
   "outputs": [],
   "source": [
    "#classes"
   ]
  },
  {
   "cell_type": "code",
   "execution_count": 15,
   "id": "90e4ca76-77c7-447a-bcc0-f89b7c7c3cb2",
   "metadata": {},
   "outputs": [],
   "source": [
    "class Musician():\n",
    "    \n",
    "    job = \"Musician\"\n",
    "    \n",
    "    def __init__(self,name,age,instrument):\n",
    "        self.name = name\n",
    "        self.age = age\n",
    "        self.instrument = instrument\n",
    "        \n",
    "    def sing(self):\n",
    "        print(\"sing sing sing\")\n",
    "    \n",
    "    def __len__(self):\n",
    "        return self.age\n",
    "    \n",
    "    def __str__(self):\n",
    "        return self.name"
   ]
  },
  {
   "cell_type": "code",
   "execution_count": 5,
   "id": "e100b131-17cb-4e09-bd86-1aeab7d1f203",
   "metadata": {},
   "outputs": [],
   "source": [
    "james = Musician(\"James\",50,\"Guitar\") #instance"
   ]
  },
  {
   "cell_type": "code",
   "execution_count": 7,
   "id": "5215382f-0c38-4578-80b0-2894080441c2",
   "metadata": {},
   "outputs": [
    {
     "data": {
      "text/plain": [
       "50"
      ]
     },
     "execution_count": 7,
     "metadata": {},
     "output_type": "execute_result"
    }
   ],
   "source": [
    "james.age"
   ]
  },
  {
   "cell_type": "code",
   "execution_count": 9,
   "id": "16a9ba0a-40bc-499f-bdab-3159c54035df",
   "metadata": {},
   "outputs": [
    {
     "data": {
      "text/plain": [
       "'James'"
      ]
     },
     "execution_count": 9,
     "metadata": {},
     "output_type": "execute_result"
    }
   ],
   "source": [
    "james.name\n"
   ]
  },
  {
   "cell_type": "code",
   "execution_count": 11,
   "id": "1f920102-a86e-4492-b381-3cfc385a64bf",
   "metadata": {},
   "outputs": [
    {
     "data": {
      "text/plain": [
       "'Musician'"
      ]
     },
     "execution_count": 11,
     "metadata": {},
     "output_type": "execute_result"
    }
   ],
   "source": [
    "james.job"
   ]
  },
  {
   "cell_type": "code",
   "execution_count": 19,
   "id": "f3494ed9-9c1c-4371-9793-acaa1a5c3219",
   "metadata": {},
   "outputs": [
    {
     "name": "stdout",
     "output_type": "stream",
     "text": [
      "sing sing sing\n"
     ]
    }
   ],
   "source": [
    "james.sing()\n"
   ]
  },
  {
   "cell_type": "code",
   "execution_count": 21,
   "id": "86f2a9cb-bccc-4832-86f2-638b03d9ba49",
   "metadata": {},
   "outputs": [
    {
     "data": {
      "text/plain": [
       "50"
      ]
     },
     "execution_count": 21,
     "metadata": {},
     "output_type": "execute_result"
    }
   ],
   "source": [
    "len(james)"
   ]
  },
  {
   "cell_type": "code",
   "execution_count": 23,
   "id": "36d77cfc-d33b-4b75-96db-f0a5fe1d0f34",
   "metadata": {},
   "outputs": [
    {
     "name": "stdout",
     "output_type": "stream",
     "text": [
      "James\n"
     ]
    }
   ],
   "source": [
    "print(james)"
   ]
  },
  {
   "cell_type": "code",
   "execution_count": 25,
   "id": "1d2fb4c7-cdc4-47f7-ae76-176a05decdb9",
   "metadata": {},
   "outputs": [],
   "source": [
    "#inheritance"
   ]
  },
  {
   "cell_type": "code",
   "execution_count": 27,
   "id": "d4571702-e1f7-4c7d-b00f-3c08e82ecaaa",
   "metadata": {},
   "outputs": [],
   "source": [
    "class Class1():\n",
    "    \n",
    "    def __init__(self):\n",
    "        print(\"class 1 created\")\n",
    "    \n",
    "    def method1(self):\n",
    "        print(\"method 1\")\n",
    "        \n",
    "    def method2(self):\n",
    "        print(\"method 2\")"
   ]
  },
  {
   "cell_type": "code",
   "execution_count": 29,
   "id": "dd825f91-19d0-4926-82d8-ac8f0c0930bc",
   "metadata": {},
   "outputs": [
    {
     "name": "stdout",
     "output_type": "stream",
     "text": [
      "class 1 created\n"
     ]
    }
   ],
   "source": [
    "class1Instance = Class1()"
   ]
  },
  {
   "cell_type": "code",
   "execution_count": 31,
   "id": "501cc7d6-41a9-4bb6-b8d6-83dc89b6f151",
   "metadata": {},
   "outputs": [
    {
     "name": "stdout",
     "output_type": "stream",
     "text": [
      "method 1\n"
     ]
    }
   ],
   "source": [
    "class1Instance.method1()"
   ]
  },
  {
   "cell_type": "code",
   "execution_count": 35,
   "id": "770e6275-32d9-49db-9b1e-0e969d4b567e",
   "metadata": {},
   "outputs": [],
   "source": [
    "class Class2(Class1):\n",
    "    def __init__(self):\n",
    "        Class1.__init__(self)\n",
    "        print(\"class 2 created\")"
   ]
  },
  {
   "cell_type": "code",
   "execution_count": 37,
   "id": "07df2fdf-fd22-467a-8fe5-629413c00781",
   "metadata": {},
   "outputs": [
    {
     "name": "stdout",
     "output_type": "stream",
     "text": [
      "class 1 created\n",
      "class 2 created\n"
     ]
    }
   ],
   "source": [
    "class2Instance = Class2()"
   ]
  },
  {
   "cell_type": "code",
   "execution_count": 39,
   "id": "a57a9bb7-1b12-4758-a193-bbd2c7922448",
   "metadata": {},
   "outputs": [
    {
     "name": "stdout",
     "output_type": "stream",
     "text": [
      "method 1\n"
     ]
    }
   ],
   "source": [
    "class2Instance.method1()"
   ]
  },
  {
   "cell_type": "code",
   "execution_count": 41,
   "id": "f4e30772-771a-492d-abd0-e3ea90baac0e",
   "metadata": {},
   "outputs": [],
   "source": [
    "#polymorphism"
   ]
  },
  {
   "cell_type": "code",
   "execution_count": 43,
   "id": "55a40aed-6557-4790-ae3d-4baab7d93db3",
   "metadata": {},
   "outputs": [],
   "source": [
    "class Apple():\n",
    "    \n",
    "    def __init__(self,name):\n",
    "        self.name = name\n",
    "    \n",
    "    def information(self):\n",
    "        return self.name + \" 100 calories\""
   ]
  },
  {
   "cell_type": "code",
   "execution_count": 45,
   "id": "41643577-c988-47b8-9cf6-d411d49f5ed4",
   "metadata": {},
   "outputs": [],
   "source": [
    "class Banana():\n",
    "    \n",
    "    def __init__(self,name):\n",
    "        self.name = name\n",
    "        \n",
    "    def information(self):\n",
    "        return self.name + \" 200 calories\""
   ]
  },
  {
   "cell_type": "code",
   "execution_count": 47,
   "id": "826a0195-b5ea-411e-91ce-1480215ccfe7",
   "metadata": {},
   "outputs": [],
   "source": [
    "banana = Banana(\"banana\")"
   ]
  },
  {
   "cell_type": "code",
   "execution_count": 49,
   "id": "bf3a8f75-f9c7-4bd3-9f2e-800480be8d49",
   "metadata": {},
   "outputs": [],
   "source": [
    "apple = Apple(\"apple\")"
   ]
  },
  {
   "cell_type": "code",
   "execution_count": 51,
   "id": "080beaec-d7f5-46da-899b-e3bbec2f16a2",
   "metadata": {},
   "outputs": [],
   "source": [
    "fruitList = [banana,apple]"
   ]
  },
  {
   "cell_type": "code",
   "execution_count": null,
   "id": "d7285578-be42-4c9d-b5b9-5e8c68800578",
   "metadata": {},
   "outputs": [],
   "source": []
  },
  {
   "cell_type": "code",
   "execution_count": 54,
   "id": "608fa4d9-18db-42b9-a995-0a6a8d837591",
   "metadata": {},
   "outputs": [
    {
     "name": "stdout",
     "output_type": "stream",
     "text": [
      "banana 200 calories\n",
      "apple 100 calories\n"
     ]
    }
   ],
   "source": [
    "for fruit in fruitList:\n",
    "    print(fruit.information())"
   ]
  },
  {
   "cell_type": "code",
   "execution_count": 56,
   "id": "6bc9a171-af1a-4219-b4b5-b0df9e5bdab8",
   "metadata": {},
   "outputs": [],
   "source": [
    "#scope"
   ]
  },
  {
   "cell_type": "code",
   "execution_count": 58,
   "id": "0738a4e5-649f-4d05-8dde-f03e51bf2a8b",
   "metadata": {},
   "outputs": [],
   "source": [
    "number = 10"
   ]
  },
  {
   "cell_type": "code",
   "execution_count": 60,
   "id": "167841fc-b0b6-4241-b405-09635bd46c3f",
   "metadata": {},
   "outputs": [
    {
     "name": "stdout",
     "output_type": "stream",
     "text": [
      "10\n"
     ]
    }
   ],
   "source": [
    "print(number)"
   ]
  },
  {
   "cell_type": "code",
   "execution_count": 62,
   "id": "dde9bbd7-fb0d-4dd0-84e4-2267a464b1f3",
   "metadata": {},
   "outputs": [],
   "source": [
    "number = 10\n",
    "def multiply(num1):\n",
    "    number = 5\n",
    "    return num1 * number"
   ]
  },
  {
   "cell_type": "code",
   "execution_count": 64,
   "id": "abdefb44-0afe-49be-ad33-3de659b5d040",
   "metadata": {},
   "outputs": [
    {
     "data": {
      "text/plain": [
       "50"
      ]
     },
     "execution_count": 64,
     "metadata": {},
     "output_type": "execute_result"
    }
   ],
   "source": [
    "multiply(10)"
   ]
  },
  {
   "cell_type": "code",
   "execution_count": 68,
   "id": "c75d895b-02e0-4106-96c2-a3011429b380",
   "metadata": {},
   "outputs": [
    {
     "name": "stdout",
     "output_type": "stream",
     "text": [
      "10\n"
     ]
    }
   ],
   "source": [
    "print(number)"
   ]
  },
  {
   "cell_type": "code",
   "execution_count": 70,
   "id": "39bc061b-3c01-4298-a456-e8ab208c417f",
   "metadata": {},
   "outputs": [
    {
     "name": "stdout",
     "output_type": "stream",
     "text": [
      "100\n",
      "10\n"
     ]
    }
   ],
   "source": [
    "number = 10 #global\n",
    "def multiply(num1):\n",
    "    number = 5\n",
    "    return num1 * number\n",
    "print(multiply(20))\n",
    "print(number)"
   ]
  },
  {
   "cell_type": "code",
   "execution_count": 72,
   "id": "10a88a93-d117-40a8-acb4-0a62cb03946c",
   "metadata": {},
   "outputs": [],
   "source": [
    "#legb -> l-> local, e-> enclosing, g-> global, b->built-in"
   ]
  },
  {
   "cell_type": "code",
   "execution_count": 76,
   "id": "33eb078c-9355-49f4-9d5a-e491aca5ff56",
   "metadata": {},
   "outputs": [],
   "source": [
    "#global\n",
    "myName = \"pervin\"\n",
    "\n",
    "def myFunction():\n",
    "    #enclosing\n",
    "    myName = \"James\"\n",
    "    \n",
    "    def myFunction2():\n",
    "        #local\n",
    "        myName = \"Lars\"\n",
    "        print(myName)\n",
    "    \n",
    "    myFunction2()"
   ]
  },
  {
   "cell_type": "code",
   "execution_count": 78,
   "id": "4c584e1d-e0d6-4aec-a34c-6f0a2f24473c",
   "metadata": {},
   "outputs": [
    {
     "name": "stdout",
     "output_type": "stream",
     "text": [
      "Lars\n"
     ]
    }
   ],
   "source": [
    "myFunction()"
   ]
  },
  {
   "cell_type": "code",
   "execution_count": 88,
   "id": "f19b3a1d-4d68-4ae6-a4cd-ee0fc5acaa5d",
   "metadata": {},
   "outputs": [],
   "source": [
    "y = 10\n",
    "\n",
    "def newFunction():\n",
    "    global y\n",
    "    y = 5\n",
    "    print(y)"
   ]
  },
  {
   "cell_type": "code",
   "execution_count": 90,
   "id": "2fbd465f-bd8b-484d-b88d-187428cce17a",
   "metadata": {},
   "outputs": [
    {
     "name": "stdout",
     "output_type": "stream",
     "text": [
      "5\n"
     ]
    }
   ],
   "source": [
    "newFunction()"
   ]
  },
  {
   "cell_type": "code",
   "execution_count": 92,
   "id": "a1d62487-3a85-4922-a473-849785f6ca2a",
   "metadata": {},
   "outputs": [
    {
     "name": "stdout",
     "output_type": "stream",
     "text": [
      "5\n"
     ]
    }
   ],
   "source": [
    "print(y)"
   ]
  },
  {
   "cell_type": "code",
   "execution_count": null,
   "id": "55c3a2eb-67ec-4acb-a049-755e65a4a7fe",
   "metadata": {},
   "outputs": [],
   "source": []
  }
 ],
 "metadata": {
  "kernelspec": {
   "display_name": "Python 3 (ipykernel)",
   "language": "python",
   "name": "python3"
  },
  "language_info": {
   "codemirror_mode": {
    "name": "ipython",
    "version": 3
   },
   "file_extension": ".py",
   "mimetype": "text/x-python",
   "name": "python",
   "nbconvert_exporter": "python",
   "pygments_lexer": "ipython3",
   "version": "3.12.4"
  }
 },
 "nbformat": 4,
 "nbformat_minor": 5
}
