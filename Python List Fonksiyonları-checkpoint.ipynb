{
 "cells": [
  {
   "cell_type": "code",
   "execution_count": 1,
   "id": "115a31a5",
   "metadata": {},
   "outputs": [
    {
     "name": "stdout",
     "output_type": "stream",
     "text": [
      "['elma', 'armut', 'portakal']\n",
      "['elma', 'armut', 'portakal', 'kiraz']\n"
     ]
    }
   ],
   "source": [
    "#append(): Listeye ekleme append() komutu ile yapılmaktadır.\n",
    "\n",
    " \n",
    "liste = [\"elma\", \"armut\", \"portakal\"]\n",
    "print(liste)\n",
    "liste.append(\"kiraz\")\n",
    "print(liste)"
   ]
  },
  {
   "cell_type": "code",
   "execution_count": 3,
   "id": "922ee119",
   "metadata": {},
   "outputs": [
    {
     "name": "stdout",
     "output_type": "stream",
     "text": [
      "[]\n"
     ]
    }
   ],
   "source": [
    "#clear():Silme işlemleri clear() komutu ile yapılmaktadır.\n",
    " \n",
    "liste = [\"elma\", \"armut\", \"portakal\"]\n",
    "liste.clear()\n",
    "print(liste)\n",
    " "
   ]
  },
  {
   "cell_type": "code",
   "execution_count": 4,
   "id": "c7582efe",
   "metadata": {},
   "outputs": [
    {
     "name": "stdout",
     "output_type": "stream",
     "text": [
      "['veritabanı', 'web tasarım', 'kodlama']\n"
     ]
    }
   ],
   "source": [
    "#copy():Listenin kopyasını oluşturur\n",
    " \n",
    "dersler = list((\"veritabanı\", \"web tasarım\", \"kodlama\"))\n",
    "dersler2=dersler.copy()\n",
    "print(dersler2)\n",
    " "
   ]
  },
  {
   "cell_type": "code",
   "execution_count": 5,
   "id": "21569359",
   "metadata": {},
   "outputs": [
    {
     "name": "stdout",
     "output_type": "stream",
     "text": [
      "2\n"
     ]
    }
   ],
   "source": [
    "#count(): Belirtilen öğenin listede kaç adet olduğu geri döner.\n",
    " \n",
    "dersler = list((\"veritabanı\", \"web tasarım\", \"veritabanı\"))\n",
    "print(dersler.count(\"veritabanı\")) # Sonuç 2 olacaktır.\n",
    " "
   ]
  },
  {
   "cell_type": "code",
   "execution_count": 6,
   "id": "6509cf16",
   "metadata": {},
   "outputs": [
    {
     "name": "stdout",
     "output_type": "stream",
     "text": [
      "['hasan', 'mehmet', 'hayati', 'ali', 'veli', 'ayşe']\n"
     ]
    }
   ],
   "source": [
    "#extend():Belirtilen liste öğelerini seçilen listenin sonuna ekler.\n",
    " \n",
    "isimler = ['ali', 'veli', 'ayşe']\n",
    "kisiler = ['hasan', 'mehmet', 'hayati']\n",
    "kisiler.extend(isimler)\n",
    "print(kisiler)\n",
    " "
   ]
  },
  {
   "cell_type": "code",
   "execution_count": 7,
   "id": "f774f119",
   "metadata": {},
   "outputs": [
    {
     "name": "stdout",
     "output_type": "stream",
     "text": [
      "1\n"
     ]
    }
   ],
   "source": [
    "#index():Belirtilen elemanın index numarasını öğrenmek için kullanılır.\n",
    " \n",
    "isimler = ['ali', 'veli', 'ayşe']\n",
    "print(isimler.index(\"veli\"))"
   ]
  },
  {
   "cell_type": "code",
   "execution_count": 8,
   "id": "85280439",
   "metadata": {},
   "outputs": [
    {
     "name": "stdout",
     "output_type": "stream",
     "text": [
      "['elma', 'armut', 'portakal']\n",
      "['elma', 'kiraz', 'armut', 'portakal']\n"
     ]
    }
   ],
   "source": [
    "#insert():insert()\tBelirtilen index numarasına eleman ekler.\n",
    " \n",
    "liste = [\"elma\", \"armut\", \"portakal\"]\n",
    "print(liste)\n",
    "liste.insert(1,\"kiraz\")\n",
    "print(liste)"
   ]
  },
  {
   "cell_type": "code",
   "execution_count": 9,
   "id": "e9054707",
   "metadata": {},
   "outputs": [
    {
     "name": "stdout",
     "output_type": "stream",
     "text": [
      "['elma', 'armut']\n"
     ]
    }
   ],
   "source": [
    "#pop():Belirtilen indexteki öğeyi kaldırır.\n",
    " \n",
    "liste = [\"elma\", \"armut\", \"portakal\"]\n",
    "liste.pop()\n",
    "print(liste)"
   ]
  },
  {
   "cell_type": "code",
   "execution_count": 10,
   "id": "c8ce9501",
   "metadata": {},
   "outputs": [
    {
     "name": "stdout",
     "output_type": "stream",
     "text": [
      "['elma', 'portakal']\n"
     ]
    }
   ],
   "source": [
    "#remove():Belirtilen öğeyi kaldırır.\n",
    " \n",
    "liste = [\"elma\", \"armut\", \"portakal\"]\n",
    "liste.remove(\"armut\")\n",
    "print(liste)\n",
    " "
   ]
  },
  {
   "cell_type": "code",
   "execution_count": 11,
   "id": "c74f4b40",
   "metadata": {},
   "outputs": [
    {
     "name": "stdout",
     "output_type": "stream",
     "text": [
      "['ali', 'veli', 'ayşe']\n",
      "['ayşe', 'veli', 'ali']\n"
     ]
    }
   ],
   "source": [
    "#reverse():Liste sırasını ters çevirir. İlk eleman en sona..\n",
    " \n",
    "isimler = ['ali', 'veli', 'ayşe']\n",
    "print(isimler)\n",
    "isimler.reverse()\n",
    "print(isimler)\n",
    " "
   ]
  },
  {
   "cell_type": "code",
   "execution_count": 13,
   "id": "29b938e7",
   "metadata": {},
   "outputs": [
    {
     "name": "stdout",
     "output_type": "stream",
     "text": [
      "['ali', 'veli', 'ayşe']\n",
      "['ali', 'ayşe', 'veli']\n"
     ]
    }
   ],
   "source": [
    "#sort():Listeyi küçükten büyüğe ya da A-Z sıralar.\n",
    "isimler = ['ali', 'veli', 'ayşe']\n",
    "print(isimler)\n",
    "isimler.sort()\n",
    "print(isimler)"
   ]
  },
  {
   "cell_type": "code",
   "execution_count": null,
   "id": "a4c73d65",
   "metadata": {},
   "outputs": [],
   "source": []
  },
  {
   "cell_type": "code",
   "execution_count": null,
   "id": "ecc6015b",
   "metadata": {},
   "outputs": [],
   "source": []
  }
 ],
 "metadata": {
  "kernelspec": {
   "display_name": "Python 3 (ipykernel)",
   "language": "python",
   "name": "python3"
  },
  "language_info": {
   "codemirror_mode": {
    "name": "ipython",
    "version": 3
   },
   "file_extension": ".py",
   "mimetype": "text/x-python",
   "name": "python",
   "nbconvert_exporter": "python",
   "pygments_lexer": "ipython3",
   "version": "3.9.7"
  }
 },
 "nbformat": 4,
 "nbformat_minor": 5
}
