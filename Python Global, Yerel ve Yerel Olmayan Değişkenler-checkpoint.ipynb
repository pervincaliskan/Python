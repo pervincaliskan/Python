{
 "cells": [
  {
   "cell_type": "code",
   "execution_count": 1,
   "id": "0d31fa40",
   "metadata": {},
   "outputs": [
    {
     "name": "stdout",
     "output_type": "stream",
     "text": [
      "x içeride : global\n",
      "x dışarıda: global\n"
     ]
    }
   ],
   "source": [
    "x = \"global\"\n",
    " \n",
    "def foo():\n",
    "    print(\"x içeride :\", x)\n",
    " \n",
    "foo()\n",
    "print(\"x dışarıda:\", x)\n",
    " "
   ]
  },
  {
   "cell_type": "code",
   "execution_count": 2,
   "id": "011e8cbc",
   "metadata": {},
   "outputs": [
    {
     "name": "stdout",
     "output_type": "stream",
     "text": [
      "globalglobal\n",
      "local\n"
     ]
    }
   ],
   "source": [
    "# Genel ve Yerel değişkenleri aynı kodda kullanma\n",
    "x = \"global\"\n",
    " \n",
    "def foo():\n",
    "    global x\n",
    "    y = \"local\"\n",
    "    x = x * 2\n",
    "    print(x)\n",
    "    print(y)\n",
    "    \n",
    "foo()"
   ]
  },
  {
   "cell_type": "code",
   "execution_count": 3,
   "id": "68da2d02",
   "metadata": {},
   "outputs": [
    {
     "name": "stdout",
     "output_type": "stream",
     "text": [
      "local x: 10\n",
      "global x: 5\n"
     ]
    }
   ],
   "source": [
    "# Genel değişken ve aynı ada sahip Yerel değişken\n",
    "x = 5\n",
    " \n",
    "def foo():\n",
    "    x = 10\n",
    "    print(\"local x:\", x)\n",
    " \n",
    "foo()\n",
    "print(\"global x:\", x)\n",
    " \n"
   ]
  },
  {
   "cell_type": "code",
   "execution_count": 5,
   "id": "497cb94e",
   "metadata": {},
   "outputs": [
    {
     "name": "stdout",
     "output_type": "stream",
     "text": [
      "iceride: local olmayan\n",
      "dışarıda: local olmayan\n"
     ]
    }
   ],
   "source": [
    "#Yerel olmayan bir değişken oluşturma\n",
    "def outer():\n",
    "    x = \"local\"\n",
    "    \n",
    "    def inner():\n",
    "        nonlocal x\n",
    "        x = \"local olmayan\"\n",
    "        print(\"iceride:\", x)\n",
    "    \n",
    "    inner()\n",
    "    print(\"dışarıda:\", x)\n",
    " \n",
    "outer()"
   ]
  },
  {
   "cell_type": "code",
   "execution_count": null,
   "id": "6ff5967e",
   "metadata": {},
   "outputs": [],
   "source": []
  }
 ],
 "metadata": {
  "kernelspec": {
   "display_name": "Python 3 (ipykernel)",
   "language": "python",
   "name": "python3"
  },
  "language_info": {
   "codemirror_mode": {
    "name": "ipython",
    "version": 3
   },
   "file_extension": ".py",
   "mimetype": "text/x-python",
   "name": "python",
   "nbconvert_exporter": "python",
   "pygments_lexer": "ipython3",
   "version": "3.9.7"
  }
 },
 "nbformat": 4,
 "nbformat_minor": 5
}
