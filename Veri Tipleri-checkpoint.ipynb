{
 "cells": [
  {
   "cell_type": "code",
   "execution_count": 1,
   "id": "30ec307f",
   "metadata": {},
   "outputs": [
    {
     "name": "stdout",
     "output_type": "stream",
     "text": [
      "55  ait olduğu tür: <class 'int'>\n",
      "2.0  ait olduğu tür: <class 'float'>\n",
      "(1+8j)  (complex türünde mi:  True\n"
     ]
    }
   ],
   "source": [
    "#Python Number\n",
    "a = 55 \n",
    "print(a, \" ait olduğu tür:\", type(a))\n",
    " \n",
    "a = 2.0\n",
    "print(a, \" ait olduğu tür:\", type(a))\n",
    " \n",
    "a = 1+8j\n",
    "print(a, \" (complex türünde mi: \", isinstance(1+8j,complex))"
   ]
  },
  {
   "cell_type": "code",
   "execution_count": 2,
   "id": "a04a989a",
   "metadata": {},
   "outputs": [
    {
     "name": "stdout",
     "output_type": "stream",
     "text": [
      "www.tasarimkodlama.com \n",
      "w\n",
      "tasarimkodlama\n",
      "tasarimkodlama.com \n",
      "www.tasarimkodlama.com www.tasarimkodlama.com \n",
      "https://www.tasarimkodlama.com \n"
     ]
    }
   ],
   "source": [
    "#Python String\n",
    "yazi = 'www.tasarimkodlama.com '\n",
    " \n",
    "print (yazi)            # Tüm metni yazdırma\n",
    "print (yazi[0])         # İlk karakteri yazma\n",
    "print (yazi[4:18])      # 5-18 karakterler arasını yazdırır.\n",
    "print (yazi[4:])        # 5. karakterden sonrasını yazdırır\n",
    "print (yazi * 2)        # Metni iki sefer yazdırır\n",
    "print (\"https://\"+yazi) # Metni birleştirir"
   ]
  },
  {
   "cell_type": "code",
   "execution_count": 3,
   "id": "d088f2d3",
   "metadata": {},
   "outputs": [
    {
     "name": "stdout",
     "output_type": "stream",
     "text": [
      "a[2] =  15\n",
      "a[0:3] =  [5, 10, 15]\n",
      "a[5:] =  [30, 35, 40]\n"
     ]
    }
   ],
   "source": [
    "#Python List\n",
    "a = [5,10,15,20,25,30,35,40]\n",
    " \n",
    "# a[2] = 15\n",
    "print(\"a[2] = \", a[2])\n",
    " \n",
    "# a[0:3] = [5, 10, 15]\n",
    "print(\"a[0:3] = \", a[0:3])\n",
    " \n",
    "# a[5:] = [30, 35, 40]\n",
    "print(\"a[5:] = \", a[5:])"
   ]
  },
  {
   "cell_type": "code",
   "execution_count": 6,
   "id": "730a98d7",
   "metadata": {},
   "outputs": [
    {
     "name": "stdout",
     "output_type": "stream",
     "text": [
      "t[1] =  program\n",
      "t[0:3] =  (5, 'program', (1+3j))\n"
     ]
    },
    {
     "ename": "TypeError",
     "evalue": "'tuple' object does not support item assignment",
     "output_type": "error",
     "traceback": [
      "\u001b[1;31m---------------------------------------------------------------------------\u001b[0m",
      "\u001b[1;31mTypeError\u001b[0m                                 Traceback (most recent call last)",
      "\u001b[1;32m~\\AppData\\Local\\Temp/ipykernel_18264/3373505320.py\u001b[0m in \u001b[0;36m<module>\u001b[1;34m\u001b[0m\n\u001b[0;32m     10\u001b[0m \u001b[0mprint\u001b[0m\u001b[1;33m(\u001b[0m\u001b[1;34m\"t[0:3] = \"\u001b[0m\u001b[1;33m,\u001b[0m \u001b[0mt\u001b[0m\u001b[1;33m[\u001b[0m\u001b[1;36m0\u001b[0m\u001b[1;33m:\u001b[0m\u001b[1;36m3\u001b[0m\u001b[1;33m]\u001b[0m\u001b[1;33m)\u001b[0m\u001b[1;33m\u001b[0m\u001b[1;33m\u001b[0m\u001b[0m\n\u001b[0;32m     11\u001b[0m \u001b[1;33m\u001b[0m\u001b[0m\n\u001b[1;32m---> 12\u001b[1;33m \u001b[0mt\u001b[0m\u001b[1;33m[\u001b[0m\u001b[1;36m0\u001b[0m\u001b[1;33m]\u001b[0m \u001b[1;33m=\u001b[0m \u001b[1;36m10\u001b[0m\u001b[1;33m\u001b[0m\u001b[1;33m\u001b[0m\u001b[0m\n\u001b[0m",
      "\u001b[1;31mTypeError\u001b[0m: 'tuple' object does not support item assignment"
     ]
    }
   ],
   "source": [
    "#Python Tuple\n",
    "\"\"\"Tuple, listedeki gibi sıralı bir dizi öğedir. \n",
    "Tek fark, tuplelerin değişmez olmasıdır.Tupler, verileri yazmaya karşı koruma için kullanılır \n",
    "ve genellikle dinamik olarak değişemediği için listeden daha hızlıdır.\"\"\"\n",
    "t = (5,'program', 1+3j)\n",
    "# t[1] = 'program'\n",
    "print(\"t[1] = \", t[1])\n",
    " \n",
    "# t[0:3] = (5, 'program', (1+3j))\n",
    "print(\"t[0:3] = \", t[0:3])\n",
    " # Generates error\n",
    "# Tuples are immutable\n",
    "t[0] = 10"
   ]
  },
  {
   "cell_type": "code",
   "execution_count": 7,
   "id": "1a8b8ae6",
   "metadata": {},
   "outputs": [
    {
     "name": "stdout",
     "output_type": "stream",
     "text": [
      "Pervin\n",
      "Çalışkan\n",
      "{'ad': 'Pervin', 'yas': 22, 'meslek': 'Öğrenci'}\n",
      "dict_keys(['ad', 'yas', 'meslek'])\n",
      "dict_values(['Pervin', 22, 'Öğrenci'])\n"
     ]
    }
   ],
   "source": [
    "#Python Dictionary\n",
    "#Sözlükler küme parantezleri ({}) ile çevrelenir ve değerler köşeli parantezler ([]) kullanılarak atanabilir ve erişilebilir.\n",
    "dictTip = {} \n",
    "dictTip['ad'] = \"Pervin\"\n",
    "dictTip[2]     = \"Çalışkan\"\n",
    " \n",
    "#hash table şeklinde yazımı\n",
    "dictOrnek = {'ad': 'Pervin','yas':22, 'meslek': 'Öğrenci'}\n",
    " \n",
    " \n",
    "print (dictTip['ad'])      # Prints value for 'one' key\n",
    "print (dictTip[2])         # Prints value for 2 key\n",
    "print (dictOrnek)          # Prints complete dictionary\n",
    "print (dictOrnek.keys())   # Prints all the keys\n",
    "print (dictOrnek.values()) # Prints all the values"
   ]
  },
  {
   "cell_type": "code",
   "execution_count": 12,
   "id": "e491822c",
   "metadata": {},
   "outputs": [
    {
     "name": "stdout",
     "output_type": "stream",
     "text": [
      "a =  {1, 2, 3, 4, 5}\n",
      "<class 'set'>\n"
     ]
    }
   ],
   "source": [
    "#Python Set\n",
    "#Set, benzersiz ürünlerin sıralanmamış bir koleksiyonudur. \n",
    "#Set, virgül ve {} ile ayrılmış değerler ile tanımlanır. Bir setteki öğeler sıralanamaz.\n",
    "a = {5,2,3,1,4}\n",
    " \n",
    "#değişkeni yazıdryazdır\n",
    "\n",
    "print(\"a = \", a)\n",
    " \n",
    "# veri türü\n",
    "print(type(a))\n",
    "\n"
   ]
  },
  {
   "cell_type": "code",
   "execution_count": null,
   "id": "4eff76b7",
   "metadata": {},
   "outputs": [],
   "source": []
  }
 ],
 "metadata": {
  "kernelspec": {
   "display_name": "Python 3 (ipykernel)",
   "language": "python",
   "name": "python3"
  },
  "language_info": {
   "codemirror_mode": {
    "name": "ipython",
    "version": 3
   },
   "file_extension": ".py",
   "mimetype": "text/x-python",
   "name": "python",
   "nbconvert_exporter": "python",
   "pygments_lexer": "ipython3",
   "version": "3.9.7"
  }
 },
 "nbformat": 4,
 "nbformat_minor": 5
}
