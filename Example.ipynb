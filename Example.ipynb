{
 "cells": [
  {
   "cell_type": "code",
   "execution_count": 1,
   "id": "d1d968bf-3adc-48c8-bc20-b657da52e4b7",
   "metadata": {},
   "outputs": [
    {
     "name": "stdout",
     "output_type": "stream",
     "text": [
      "selamlar\n"
     ]
    }
   ],
   "source": [
    "print(\"selamlar\")"
   ]
  },
  {
   "cell_type": "code",
   "execution_count": 3,
   "id": "cb4ac8b1-87f1-4879-8132-59fb3803f06a",
   "metadata": {},
   "outputs": [
    {
     "data": {
      "text/plain": [
       "9"
      ]
     },
     "execution_count": 3,
     "metadata": {},
     "output_type": "execute_result"
    }
   ],
   "source": [
    "5 + 4"
   ]
  },
  {
   "cell_type": "code",
   "execution_count": 7,
   "id": "fe8661a1-553a-466b-9181-7a428c6a4e41",
   "metadata": {},
   "outputs": [],
   "source": [
    "x = 5 "
   ]
  },
  {
   "cell_type": "code",
   "execution_count": 9,
   "id": "afd9e57e-ef76-423a-81ac-f5ec7d9528bb",
   "metadata": {},
   "outputs": [
    {
     "data": {
      "text/plain": [
       "int"
      ]
     },
     "execution_count": 9,
     "metadata": {},
     "output_type": "execute_result"
    }
   ],
   "source": [
    "type(x)"
   ]
  },
  {
   "cell_type": "code",
   "execution_count": 11,
   "id": "2acfc4f3-2903-413b-bb51-a683cdf5aa18",
   "metadata": {},
   "outputs": [],
   "source": [
    "pi = 3.14 "
   ]
  },
  {
   "cell_type": "code",
   "execution_count": 13,
   "id": "68623e14-1d7e-4010-bdb3-4545559660a2",
   "metadata": {},
   "outputs": [
    {
     "data": {
      "text/plain": [
       "float"
      ]
     },
     "execution_count": 13,
     "metadata": {},
     "output_type": "execute_result"
    }
   ],
   "source": [
    "type(pi)"
   ]
  },
  {
   "cell_type": "code",
   "execution_count": 15,
   "id": "536a604f-ab64-4f7a-915c-67725dab7693",
   "metadata": {},
   "outputs": [],
   "source": [
    "x = \"pervin\""
   ]
  },
  {
   "cell_type": "code",
   "execution_count": 17,
   "id": "1037a26e-30fe-448e-ae45-ee400adc7832",
   "metadata": {},
   "outputs": [
    {
     "data": {
      "text/plain": [
       "str"
      ]
     },
     "execution_count": 17,
     "metadata": {},
     "output_type": "execute_result"
    }
   ],
   "source": [
    "type(x)"
   ]
  },
  {
   "cell_type": "code",
   "execution_count": 19,
   "id": "7386ae44-a835-40cc-9973-60ebe7d05538",
   "metadata": {},
   "outputs": [],
   "source": [
    "myBoolean = True\n"
   ]
  },
  {
   "cell_type": "code",
   "execution_count": 21,
   "id": "2a7570eb-29bc-481e-bcd6-079906a36d83",
   "metadata": {},
   "outputs": [],
   "source": [
    "myBoolean = False"
   ]
  },
  {
   "cell_type": "code",
   "execution_count": 23,
   "id": "ad7108a0-68a9-4664-9b8b-d5d448cc058f",
   "metadata": {},
   "outputs": [
    {
     "data": {
      "text/plain": [
       "bool"
      ]
     },
     "execution_count": 23,
     "metadata": {},
     "output_type": "execute_result"
    }
   ],
   "source": [
    "type(myBoolean)"
   ]
  },
  {
   "cell_type": "code",
   "execution_count": 25,
   "id": "c933acea-3dd0-46c8-a726-8d1510193f48",
   "metadata": {},
   "outputs": [],
   "source": [
    "myString = \"pervin\""
   ]
  },
  {
   "cell_type": "code",
   "execution_count": 27,
   "id": "078d6241-e43b-4dd8-9c33-c122e9b046f6",
   "metadata": {},
   "outputs": [
    {
     "data": {
      "text/plain": [
       "'p'"
      ]
     },
     "execution_count": 27,
     "metadata": {},
     "output_type": "execute_result"
    }
   ],
   "source": [
    "myString[0]"
   ]
  },
  {
   "cell_type": "code",
   "execution_count": 29,
   "id": "342ab271-31f7-42c2-b9e6-2cacf7a822ad",
   "metadata": {},
   "outputs": [
    {
     "data": {
      "text/plain": [
       "6"
      ]
     },
     "execution_count": 29,
     "metadata": {},
     "output_type": "execute_result"
    }
   ],
   "source": [
    "len(myString)"
   ]
  },
  {
   "cell_type": "code",
   "execution_count": 31,
   "id": "f86af36e-b7da-4ae6-8028-47acae9660eb",
   "metadata": {},
   "outputs": [
    {
     "data": {
      "text/plain": [
       "'n'"
      ]
     },
     "execution_count": 31,
     "metadata": {},
     "output_type": "execute_result"
    }
   ],
   "source": [
    "myString[len(myString)-1]"
   ]
  },
  {
   "cell_type": "code",
   "execution_count": 33,
   "id": "acf2e55a-2ae0-4d79-8d55-122bf0b35f74",
   "metadata": {},
   "outputs": [
    {
     "data": {
      "text/plain": [
       "'i'"
      ]
     },
     "execution_count": 33,
     "metadata": {},
     "output_type": "execute_result"
    }
   ],
   "source": [
    "myString[-2]"
   ]
  },
  {
   "cell_type": "code",
   "execution_count": 35,
   "id": "f6e21cfb-92fb-4605-a3f8-2c7ccf97ec8a",
   "metadata": {},
   "outputs": [
    {
     "data": {
      "text/plain": [
       "'pervinpervin'"
      ]
     },
     "execution_count": 35,
     "metadata": {},
     "output_type": "execute_result"
    }
   ],
   "source": [
    "myString * 2"
   ]
  },
  {
   "cell_type": "code",
   "execution_count": null,
   "id": "50b4ea9a-e2f5-4b9a-b3ec-813421e05709",
   "metadata": {},
   "outputs": [],
   "source": [
    "#slicing"
   ]
  },
  {
   "cell_type": "code",
   "execution_count": null,
   "id": "b7f4fc6a-10b7-4fd6-9800-553eb573908f",
   "metadata": {},
   "outputs": [],
   "source": [
    "myString"
   ]
  },
  {
   "cell_type": "code",
   "execution_count": 37,
   "id": "6b6c5bf0-7c34-42f6-ad42-08f068c0289b",
   "metadata": {},
   "outputs": [
    {
     "data": {
      "text/plain": [
       "'vin'"
      ]
     },
     "execution_count": 37,
     "metadata": {},
     "output_type": "execute_result"
    }
   ],
   "source": [
    "myString[3:]"
   ]
  },
  {
   "cell_type": "code",
   "execution_count": 39,
   "id": "db44f245-202b-4f20-afca-6ff6f39175b0",
   "metadata": {},
   "outputs": [
    {
     "data": {
      "text/plain": [
       "'per'"
      ]
     },
     "execution_count": 39,
     "metadata": {},
     "output_type": "execute_result"
    }
   ],
   "source": [
    "myString[:3]"
   ]
  },
  {
   "cell_type": "code",
   "execution_count": 43,
   "id": "3f7ca2fb-9486-457f-b643-dfa05b49a57b",
   "metadata": {},
   "outputs": [],
   "source": [
    "barcode = \"123456789abcde\""
   ]
  },
  {
   "cell_type": "code",
   "execution_count": 45,
   "id": "1a2650a3-723f-402a-980c-57327a95ca0b",
   "metadata": {},
   "outputs": [
    {
     "data": {
      "text/plain": [
       "'5678'"
      ]
     },
     "execution_count": 45,
     "metadata": {},
     "output_type": "execute_result"
    }
   ],
   "source": [
    "barcode[4:8]"
   ]
  },
  {
   "cell_type": "code",
   "execution_count": 47,
   "id": "4f7493b0-d1b5-4ea3-a3fc-0e92d0e3aa3e",
   "metadata": {},
   "outputs": [
    {
     "data": {
      "text/plain": [
       "'147ad'"
      ]
     },
     "execution_count": 47,
     "metadata": {},
     "output_type": "execute_result"
    }
   ],
   "source": [
    "barcode[::3] #stepping size"
   ]
  },
  {
   "cell_type": "code",
   "execution_count": 49,
   "id": "a3a8abce-ab7b-4cb3-a80b-54f72061eb60",
   "metadata": {},
   "outputs": [
    {
     "data": {
      "text/plain": [
       "'13579bd'"
      ]
     },
     "execution_count": 49,
     "metadata": {},
     "output_type": "execute_result"
    }
   ],
   "source": [
    "barcode[::2] #stepping size"
   ]
  },
  {
   "cell_type": "code",
   "execution_count": 51,
   "id": "fc622380-798f-4e9f-93af-0fcd4e1611c3",
   "metadata": {},
   "outputs": [
    {
     "data": {
      "text/plain": [
       "'edcba987654321'"
      ]
     },
     "execution_count": 51,
     "metadata": {},
     "output_type": "execute_result"
    }
   ],
   "source": [
    "barcode[::-1]  # tersten yazdırır"
   ]
  },
  {
   "cell_type": "code",
   "execution_count": null,
   "id": "ed6e8742-a4ca-4b89-95eb-8d72b53294ec",
   "metadata": {},
   "outputs": [],
   "source": []
  }
 ],
 "metadata": {
  "kernelspec": {
   "display_name": "Python 3 (ipykernel)",
   "language": "python",
   "name": "python3"
  },
  "language_info": {
   "codemirror_mode": {
    "name": "ipython",
    "version": 3
   },
   "file_extension": ".py",
   "mimetype": "text/x-python",
   "name": "python",
   "nbconvert_exporter": "python",
   "pygments_lexer": "ipython3",
   "version": "3.12.4"
  }
 },
 "nbformat": 4,
 "nbformat_minor": 5
}
