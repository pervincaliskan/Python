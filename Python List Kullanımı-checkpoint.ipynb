{
 "cells": [
  {
   "cell_type": "code",
   "execution_count": 1,
   "id": "02ff0f1a",
   "metadata": {},
   "outputs": [
    {
     "name": "stdout",
     "output_type": "stream",
     "text": [
      "['Elma', 8, 'Armut', 3, 'Kivi', 10]\n",
      "['Biber', True, 10.0]\n"
     ]
    }
   ],
   "source": [
    "\"\"\"Python list (Python listesi), köşeli parantezler arasında virgülle ayrılmış değerler (öğeler) listesi olarak yazılabilen, Python’da bulunan çok yönlü bir veri tipidir. List ile ilgili önemli bir şey, listedeki öğelerin aynı türden olması gerekmemesidir.\n",
    "\n",
    "Python programlama dilinde dört toplama veri türü vardır:\n",
    "\n",
    "List , sıralama ve değiştirilebilir koleksiyon. Yinelenen üyelere izin verir.\n",
    "Tuple, sipariş edilen ve değiştirilemeyen bir koleksiyondur. Yinelenen üyelere izin verir.\n",
    "Set, sıralanmamış ve dizine eklenmemiş koleksiyondur – yinelenen üye yoktur.\n",
    "Dictionary, sırasız, değiştirilebilir ve dizine eklenen koleksiyondur. Yinelenen üye yok.\n",
    "Bu örnekte, Python list hakkında konuşacağız. List, sıralanır ve değiştirilebilir olan bir koleksiyondur. Python’da listeler köşeli parantez ile yazılır.\"\"\"\n",
    "listA = ['Elma', 8, 'Armut', 3, 'Kivi', 10]\n",
    "listB = ['Biber', True, 10.0]\n",
    "print(listA)\n",
    "print(listB)\n",
    " "
   ]
  },
  {
   "cell_type": "code",
   "execution_count": 4,
   "id": "b74e1c49",
   "metadata": {},
   "outputs": [
    {
     "name": "stdout",
     "output_type": "stream",
     "text": [
      "Armut\n",
      "True\n"
     ]
    }
   ],
   "source": [
    "#  liste öğelerine dizin numarasına bakarak erişirsiniz. Aşağıdaki koda bakın.\n",
    "\n",
    "listA = ['Elma', 8, 'Armut', 3, 'Kivi', 10]\n",
    "listB = ['Biber', True, 10.0]\n",
    "print(listA[2])\n",
    "print(listB[1])\n",
    " "
   ]
  },
  {
   "cell_type": "code",
   "execution_count": 5,
   "id": "9c0fddef",
   "metadata": {},
   "outputs": [
    {
     "name": "stdout",
     "output_type": "stream",
     "text": [
      "listA[2]:  Armut\n",
      "listB[0:2]:  ['Biber', True]\n"
     ]
    }
   ],
   "source": [
    "# Listelerdeki değerlere erişmek istiyorsak, bu dizinde kullanılabilir değer elde etmek için dizin veya dizinlerle birlikte dilimlemek için köşeli parantez kullanın.\n",
    "\n",
    "listA = ['Elma', 8, 'Armut', 3, 'Kivi', 10]\n",
    "listB = ['Biber', True, 10.0]\n",
    "print(\"listA[2]: \", listA[2])\n",
    "print(\"listB[0:2]: \", listB[0:2])"
   ]
  },
  {
   "cell_type": "code",
   "execution_count": 6,
   "id": "713f1585",
   "metadata": {},
   "outputs": [
    {
     "name": "stdout",
     "output_type": "stream",
     "text": [
      "Değişmeden önce ['Elma', 'Karpuz', 'Armut', 'Havuç']\n",
      "Değiştikten Sonra ['Elma', 'Karpuz', 'Salatalık', 'Havuç']\n"
     ]
    }
   ],
   "source": [
    " \n",
    "#Belirli bir öğenin değerini değiştirmek istiyorsak, dizin numarasına başvurmalıyız. Aşağıdaki koda bakın.\n",
    " \n",
    "listB = ['Elma', 'Karpuz', 'Armut', 'Havuç']\n",
    " \n",
    "print('Değişmeden önce', listB)\n",
    "listB[2] = 'Salatalık'\n",
    "print('Değiştikten Sonra', listB)\n",
    " "
   ]
  },
  {
   "cell_type": "code",
   "execution_count": 7,
   "id": "c80621cb",
   "metadata": {},
   "outputs": [
    {
     "name": "stdout",
     "output_type": "stream",
     "text": [
      "Elma\n",
      "Karpuz\n",
      "Armut\n",
      "Havuç\n"
     ]
    }
   ],
   "source": [
    "# Python list üzerinde dönün\n",
    " \n",
    "listB = ['Elma', 'Karpuz', 'Armut', 'Havuç']\n",
    " \n",
    "for item in listB:\n",
    "    print(item)"
   ]
  },
  {
   "cell_type": "code",
   "execution_count": 8,
   "id": "dce1a449",
   "metadata": {},
   "outputs": [
    {
     "name": "stdout",
     "output_type": "stream",
     "text": [
      "Karpuz Listede vardır\n"
     ]
    }
   ],
   "source": [
    "\"\"\"Python liste içinde öğenin var olup olmadığını kontrol edin\n",
    "Öğenin listenin içinde olup olmadığını kontrol edip edemediğimizi kontrol edebiliriz. Aşağıdaki koda bakın.\n",
    "\n",
    "\"\"\"\n",
    " \n",
    "listB = ['Elma', 'Karpuz', 'Armut', 'Havuç']\n",
    " \n",
    "if 'Karpuz' in listB:\n",
    "    print('Karpuz Listede vardır')\n",
    " "
   ]
  },
  {
   "cell_type": "code",
   "execution_count": 9,
   "id": "4cc4b066",
   "metadata": {},
   "outputs": [
    {
     "name": "stdout",
     "output_type": "stream",
     "text": [
      "4\n"
     ]
    }
   ],
   "source": [
    "\"\"\"Python Liste Uzunluğu Öğrenin\n",
    "Len () işlevini kullanarak Python List uzunluğunu kontrol edebiliriz. Bir listenin kaç öğeye sahip olduğunu belirlemek istiyorsak, len() yöntemini kullanın.\n",
    "\"\"\"\n",
    " \n",
    "print(len(listB))\n",
    " "
   ]
  },
  {
   "cell_type": "code",
   "execution_count": null,
   "id": "944fc7fd",
   "metadata": {},
   "outputs": [],
   "source": []
  }
 ],
 "metadata": {
  "kernelspec": {
   "display_name": "Python 3 (ipykernel)",
   "language": "python",
   "name": "python3"
  },
  "language_info": {
   "codemirror_mode": {
    "name": "ipython",
    "version": 3
   },
   "file_extension": ".py",
   "mimetype": "text/x-python",
   "name": "python",
   "nbconvert_exporter": "python",
   "pygments_lexer": "ipython3",
   "version": "3.9.7"
  }
 },
 "nbformat": 4,
 "nbformat_minor": 5
}
