{
 "cells": [
  {
   "cell_type": "code",
   "execution_count": 2,
   "id": "c4f81d7f",
   "metadata": {},
   "outputs": [
    {
     "name": "stdout",
     "output_type": "stream",
     "text": [
      "('elma', 'armut', 'hünnap')\n",
      "(10, 20, 30)\n"
     ]
    }
   ],
   "source": [
    "\"\"\"Tuple, bir değişkende depolanan öğeler topluluğudur. Bu öğeler sıralı ve değiştirilemez. \n",
    "Tuples yuvarlak parantez ile temsil edilir. Tuple ve List, Python’da bir nokta dışında aynıdır.\n",
    "Oluşturduktan sonra listedeki öğeleri yapabiliriz, ancak bir Tuple’da yapamayız.\n",
    "Bir demet oluşturma örneği aşağıda verilmiştir.\"\"\"\n",
    "tuple1 = (\"elma\", \"armut\", \"hünnap\")\n",
    "tuple2 = (10, 20, 30)\n",
    " \n",
    "print(tuple1)\n",
    "print(tuple2)\n",
    " "
   ]
  },
  {
   "cell_type": "code",
   "execution_count": 3,
   "id": "1ec06902",
   "metadata": {},
   "outputs": [
    {
     "name": "stdout",
     "output_type": "stream",
     "text": [
      "('Python', 'C++', 'Java')\n"
     ]
    }
   ],
   "source": [
    "#Python Tuple Oluşturma\n",
    " \n",
    "dersler = (\"Python\", \"C++\", \"Java\")\n",
    "print(dersler)"
   ]
  },
  {
   "cell_type": "code",
   "execution_count": 4,
   "id": "ca0815e7",
   "metadata": {},
   "outputs": [
    {
     "name": "stdout",
     "output_type": "stream",
     "text": [
      "C++ Dersleri\n"
     ]
    }
   ],
   "source": [
    "#Python Tuple Öğelerine Erişim\n",
    "#Python Tuple öğelerine index numarası kullanarak erişim mümkündür.\n",
    "\n",
    "\n",
    "\n",
    " \n",
    "dersler = (\"Python Dersleri\", \"C++ Dersleri\", \"Java Dersleri\")\n",
    "print(dersler[1])\n",
    " "
   ]
  },
  {
   "cell_type": "code",
   "execution_count": 7,
   "id": "4f73bf13",
   "metadata": {},
   "outputs": [
    {
     "ename": "TypeError",
     "evalue": "'tuple' object does not support item assignment",
     "output_type": "error",
     "traceback": [
      "\u001b[1;31m---------------------------------------------------------------------------\u001b[0m",
      "\u001b[1;31mTypeError\u001b[0m                                 Traceback (most recent call last)",
      "\u001b[1;32m~\\AppData\\Local\\Temp/ipykernel_13328/1285920173.py\u001b[0m in \u001b[0;36m<module>\u001b[1;34m\u001b[0m\n\u001b[0;32m      5\u001b[0m \u001b[1;33m\u001b[0m\u001b[0m\n\u001b[0;32m      6\u001b[0m \u001b[0mdersler\u001b[0m \u001b[1;33m=\u001b[0m \u001b[1;33m(\u001b[0m\u001b[1;34m\"Python Dersleri\"\u001b[0m\u001b[1;33m,\u001b[0m \u001b[1;34m\"C++ Dersleri\"\u001b[0m\u001b[1;33m,\u001b[0m \u001b[1;34m\"Java Dersleri\"\u001b[0m\u001b[1;33m)\u001b[0m\u001b[1;33m\u001b[0m\u001b[1;33m\u001b[0m\u001b[0m\n\u001b[1;32m----> 7\u001b[1;33m \u001b[0mdersler\u001b[0m\u001b[1;33m[\u001b[0m\u001b[1;36m1\u001b[0m\u001b[1;33m]\u001b[0m\u001b[1;33m=\u001b[0m\u001b[1;34m\"C# Dersleri\"\u001b[0m\u001b[1;33m\u001b[0m\u001b[1;33m\u001b[0m\u001b[0m\n\u001b[0m",
      "\u001b[1;31mTypeError\u001b[0m: 'tuple' object does not support item assignment"
     ]
    }
   ],
   "source": [
    "#Python Tuple Elemanlarını Değiştirme\n",
    "#Bir tuple oluşturulduktan sonra, değerlerini değiştiremezsiniz. Tuple değiştirilemez.\n",
    "\n",
    "\n",
    " \n",
    "dersler = (\"Python Dersleri\", \"C++ Dersleri\", \"Java Dersleri\")\n",
    "dersler[1]=\"C# Dersleri\""
   ]
  },
  {
   "cell_type": "code",
   "execution_count": 8,
   "id": "c576c6b0",
   "metadata": {},
   "outputs": [
    {
     "name": "stdout",
     "output_type": "stream",
     "text": [
      "Python Dersleri\n",
      "C++ Dersleri\n",
      "Java Dersleri\n"
     ]
    }
   ],
   "source": [
    "#Döngü ile Tuple Elemanlarına Erişim\n",
    "#Python’ da For Döngüsü kullanarak Tuple elemanlarına erişim sağlamak mümkündür.\n",
    "\n",
    " \n",
    "dersler = (\"Python Dersleri\", \"C++ Dersleri\", \"Java Dersleri\")\n",
    "for eleman in dersler:\n",
    "    print (eleman)"
   ]
  },
  {
   "cell_type": "code",
   "execution_count": 9,
   "id": "8e0ce163",
   "metadata": {},
   "outputs": [
    {
     "name": "stdout",
     "output_type": "stream",
     "text": [
      "Python Dersleri\n",
      "C++ Dersleri\n",
      "Java Dersleri\n"
     ]
    }
   ],
   "source": [
    "#Döngü ile Tuple Elemanlarına Erişim\n",
    "#Python’ da For Döngüsü kullanarak Tuple elemanlarına erişim sağlamak mümkündür.\n",
    "\n",
    "\n",
    "\n",
    " \n",
    "dersler = (\"Python Dersleri\", \"C++ Dersleri\", \"Java Dersleri\")\n",
    "for eleman in dersler:\n",
    "    print (eleman)"
   ]
  },
  {
   "cell_type": "code",
   "execution_count": 10,
   "id": "56e225e8",
   "metadata": {},
   "outputs": [
    {
     "name": "stdout",
     "output_type": "stream",
     "text": [
      "dersler isimli tuple  3  eleman içeriyor.\n"
     ]
    }
   ],
   "source": [
    "#Python Tuple Eleman Sayısı Öğrenme\n",
    "#Tuple içinde bulunan öğe sayısını bulmak için len() metodu kullanabilirsiniz.\n",
    "\n",
    " \n",
    "dersler = (\"Python Dersleri\", \"C++ Dersleri\", \"Java Dersleri\")\n",
    "adet=(len(dersler))\n",
    "print(\"dersler isimli tuple \",adet,\" eleman içeriyor.\")\n",
    " "
   ]
  },
  {
   "cell_type": "code",
   "execution_count": 11,
   "id": "2620a34c",
   "metadata": {},
   "outputs": [],
   "source": [
    "#Python Tuple İçine Eleman Ekleme\n",
    "#Bir Tuple oluşturulduktan sonra, ona öğe ekleyemezsiniz. Tuple değişmez"
   ]
  },
  {
   "cell_type": "code",
   "execution_count": 12,
   "id": "9f9a2959",
   "metadata": {},
   "outputs": [],
   "source": [
    "\"\"\"Python Tuple Elaman Silme\n",
    "Tuple içinden eleman silemezsiniz. Tuples değiştirilemez, bu nedenle ondan öğe kaldıramazsınız, ancak tuple tamamen silebilirsiniz.\n",
    "\n",
    "del anahtar sözcüğü kullanarak tuple tamamen silinebilir.\"\"\"\n",
    "del dersler"
   ]
  },
  {
   "cell_type": "code",
   "execution_count": null,
   "id": "3b33b77b",
   "metadata": {},
   "outputs": [],
   "source": []
  }
 ],
 "metadata": {
  "kernelspec": {
   "display_name": "Python 3 (ipykernel)",
   "language": "python",
   "name": "python3"
  },
  "language_info": {
   "codemirror_mode": {
    "name": "ipython",
    "version": 3
   },
   "file_extension": ".py",
   "mimetype": "text/x-python",
   "name": "python",
   "nbconvert_exporter": "python",
   "pygments_lexer": "ipython3",
   "version": "3.9.7"
  }
 },
 "nbformat": 4,
 "nbformat_minor": 5
}
