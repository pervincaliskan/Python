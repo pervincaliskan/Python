{
 "cells": [
  {
   "cell_type": "code",
   "execution_count": 1,
   "id": "e682b94f",
   "metadata": {},
   "outputs": [
    {
     "name": "stdout",
     "output_type": "stream",
     "text": [
      "2002, 2009, 2016, 2023, 2037, 2044, 2051, 2058, 2072, 2079, 2086, 2093, 2107, 2114, 2121, 2128, 2142, 2149, 2156, 2163, 2177, 2184, 2191, 2198, 2212, 2219, 2226, 2233, 2247, 2254, 2261, 2268, 2282, 2289, 2296, 2303, 2317, 2324, 2331, 2338, 2352, 2359, 2366, 2373, 2387, 2394, 2401, 2408, 2422, 2429, 2436, 2443, 2457, 2464, 2471, 2478, 2492, 2499, 2506, 2513, 2527, 2534, 2541, 2548, 2562, 2569, 2576, 2583, 2597, 2604, 2611, 2618, 2632, 2639, 2646, 2653, 2667, 2674, 2681, 2688, 2702, 2709, 2716, 2723, 2737, 2744, 2751, 2758, 2772, 2779, 2786, 2793, 2807, 2814, 2821, 2828, 2842, 2849, 2856, 2863, 2877, 2884, 2891, 2898, 2912, 2919, 2926, 2933, 2947, 2954, 2961, 2968, 2982, 2989, 2996, 3003, 3017, 3024, 3031, 3038, 3052, 3059, 3066, 3073, 3087, 3094, 3101, 3108, 3122, 3129, 3136, 3143, 3157, 3164, 3171, 3178, 3192, 3199\n"
     ]
    }
   ],
   "source": [
    "\"\"\"Soru: 7 ile bölünebilen ancak 5’in katı olmayan tüm sayıları bulan bir program yazın,\n",
    "2000 ve 3200 arasında (her ikisi de dahil).\n",
    "Elde edilen sayılar tek bir satıra virgülle ayrılmış bir sırayla yazdırılmalıdır.\"\"\"\n",
    " \n",
    "l=[]\n",
    "for i in range(2000, 3201):\n",
    "    if (i%7==0) and (i%5!=0):\n",
    "        l.append(str(i))\n",
    " \n",
    "print (', '.join(l))"
   ]
  },
  {
   "cell_type": "code",
   "execution_count": null,
   "id": "836cec3d",
   "metadata": {},
   "outputs": [],
   "source": [
    "\"\"\"Soru: Belirli bir sayının faktöriyelini hesaplayabilen bir program yazınız. Sonuçlar tek bir satıra virgülle ayrılmış bir sırayla yazdırılmalıdır.\n",
    "\n",
    "Programa aşağıdaki girişin sağlandığını varsayalım:\n",
    "8\n",
    "Ardından çıktı şu şekilde olmalıdır:\n",
    "40320\n",
    "\n",
    "Çözüm:\"\"\"\n",
    "\n",
    " \n",
    "def fak(x):\n",
    "    if x == 0:\n",
    "        return 1\n",
    "    return x * fak(x - 1)\n",
    " \n",
    "x=int(input(\"Bir değer girin:\"))\n",
    "print (\"sonuc:\",fak(x))"
   ]
  },
  {
   "cell_type": "code",
   "execution_count": null,
   "id": "5b118922",
   "metadata": {},
   "outputs": [],
   "source": [
    "\"\"\"Belirli bir n integral numarasıyla, (i, i * i) içeren ve 1 ve n arasındaki integral sayı (her ikisi de dahil) olan bir dictionary verisi oluşturmak için bir program yazın. ve sonra program sözlüğü yazdırmalıdır.\n",
    "Programa aşağıdaki girişin sağlandığını varsayalım:\n",
    "5\n",
    "Ardından çıktı şu şekilde olmalıdır:\n",
    "{1: 1, 2: 4, 3: 9, 4: 16, 5: 25}\n",
    "\n",
    "Çözüm:\"\"\"\n",
    "\n",
    " \n",
    "n=int(input())\n",
    "d=dict()\n",
    "for i in range(1,n+1):\n",
    "    d[i]=i*i\n",
    " \n",
    "print (d)"
   ]
  },
  {
   "cell_type": "code",
   "execution_count": null,
   "id": "8d0c20f0",
   "metadata": {},
   "outputs": [],
   "source": [
    "\"\"\"Konsoldan virgülle ayrılmış sayılar dizisini kabul eden bir program yazın ve her sayıyı içeren bir liste ve bir demet oluşturun.\n",
    "Programa aşağıdaki girişin sağlandığını varsayalım:\n",
    "12,25,33,52,100\n",
    "Ardından çıktı şu şekilde olmalıdır:\n",
    "[‘12,25,33,52,100’] (‘12,25,33,52,100’,)\n",
    "\n",
    "İpuçları:\n",
    "Soruya giriş verilerinin verilmesi durumunda, bunun bir konsol girişi olduğu varsayılmalıdır.\n",
    "tupl () yöntemi listeyi tuple’e dönüştürebilir\n",
    "\n",
    "Çözüm:\"\"\"\n",
    "\n",
    " \n",
    "degerler=input()\n",
    "l=degerler.split(\", \")\n",
    "t=tuple(l)\n",
    "print (l)\n",
    "print (t)"
   ]
  },
  {
   "cell_type": "code",
   "execution_count": null,
   "id": "1eaf903d",
   "metadata": {},
   "outputs": [],
   "source": []
  }
 ],
 "metadata": {
  "kernelspec": {
   "display_name": "Python 3 (ipykernel)",
   "language": "python",
   "name": "python3"
  },
  "language_info": {
   "codemirror_mode": {
    "name": "ipython",
    "version": 3
   },
   "file_extension": ".py",
   "mimetype": "text/x-python",
   "name": "python",
   "nbconvert_exporter": "python",
   "pygments_lexer": "ipython3",
   "version": "3.9.7"
  }
 },
 "nbformat": 4,
 "nbformat_minor": 5
}
