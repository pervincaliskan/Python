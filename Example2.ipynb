{
 "cells": [
  {
   "cell_type": "code",
   "execution_count": null,
   "id": "2d8c3cb8-721d-41c8-a42b-86516df65d19",
   "metadata": {},
   "outputs": [],
   "source": [
    "#List"
   ]
  },
  {
   "cell_type": "code",
   "execution_count": 1,
   "id": "9c8371e0-1aeb-4ae5-980a-dfeae7498042",
   "metadata": {},
   "outputs": [],
   "source": [
    "myList = [1,2,3,4,5,6,7]"
   ]
  },
  {
   "cell_type": "code",
   "execution_count": 3,
   "id": "a2140731-fa4b-41b9-bc1d-228268f2ee1e",
   "metadata": {},
   "outputs": [
    {
     "data": {
      "text/plain": [
       "list"
      ]
     },
     "execution_count": 3,
     "metadata": {},
     "output_type": "execute_result"
    }
   ],
   "source": [
    "type(myList)"
   ]
  },
  {
   "cell_type": "code",
   "execution_count": 6,
   "id": "cade63e8-8a72-4fc8-801b-4ccfa339fd3a",
   "metadata": {},
   "outputs": [],
   "source": [
    "myOtherList = list()"
   ]
  },
  {
   "cell_type": "code",
   "execution_count": 10,
   "id": "c281c144-9e57-48f7-9b18-0b57bc5792b1",
   "metadata": {},
   "outputs": [],
   "source": [
    "myOtherList.append(\"a\")"
   ]
  },
  {
   "cell_type": "code",
   "execution_count": 12,
   "id": "449834fc-46d2-4eb6-a347-938bcf8321d3",
   "metadata": {},
   "outputs": [],
   "source": [
    "myOtherList.append(\"b\")"
   ]
  },
  {
   "cell_type": "code",
   "execution_count": 14,
   "id": "9ca396e5-4a2b-45c9-b5d8-9bb98b38e258",
   "metadata": {},
   "outputs": [
    {
     "data": {
      "text/plain": [
       "['a', 'b']"
      ]
     },
     "execution_count": 14,
     "metadata": {},
     "output_type": "execute_result"
    }
   ],
   "source": [
    "myOtherList"
   ]
  },
  {
   "cell_type": "code",
   "execution_count": 16,
   "id": "5a4bec79-a447-490a-9edb-4300d123f947",
   "metadata": {},
   "outputs": [],
   "source": [
    "myMixedList = [1,2,3,4.5,5.5,\"atil\",True]"
   ]
  },
  {
   "cell_type": "code",
   "execution_count": 18,
   "id": "65929496-4b14-45bf-9e78-c271ea49c7ca",
   "metadata": {},
   "outputs": [
    {
     "data": {
      "text/plain": [
       "4.5"
      ]
     },
     "execution_count": 18,
     "metadata": {},
     "output_type": "execute_result"
    }
   ],
   "source": [
    "myMixedList[3]"
   ]
  },
  {
   "cell_type": "code",
   "execution_count": 20,
   "id": "725faa46-f5b9-4b62-90dd-06dfcd7b1fe5",
   "metadata": {},
   "outputs": [],
   "source": [
    "x = myMixedList[0]"
   ]
  },
  {
   "cell_type": "code",
   "execution_count": 22,
   "id": "c4dccf64-a5ef-41b8-a357-bb6c8ee3d87a",
   "metadata": {},
   "outputs": [
    {
     "data": {
      "text/plain": [
       "int"
      ]
     },
     "execution_count": 22,
     "metadata": {},
     "output_type": "execute_result"
    }
   ],
   "source": [
    "type(x)"
   ]
  },
  {
   "cell_type": "code",
   "execution_count": 24,
   "id": "72ac1978-b15b-4d48-943d-e6bb5cf24315",
   "metadata": {},
   "outputs": [],
   "source": [
    "y = myMixedList[3]"
   ]
  },
  {
   "cell_type": "code",
   "execution_count": 26,
   "id": "40028507-a0e2-45c3-b57d-90fe22391b28",
   "metadata": {},
   "outputs": [
    {
     "data": {
      "text/plain": [
       "float"
      ]
     },
     "execution_count": 26,
     "metadata": {},
     "output_type": "execute_result"
    }
   ],
   "source": [
    "type(y)"
   ]
  },
  {
   "cell_type": "code",
   "execution_count": 28,
   "id": "4bd2f28e-1dcc-4128-bd00-2928d44bf227",
   "metadata": {},
   "outputs": [
    {
     "data": {
      "text/plain": [
       "[1, 2, 3, 4.5, 5.5, 'atil', True]"
      ]
     },
     "execution_count": 28,
     "metadata": {},
     "output_type": "execute_result"
    }
   ],
   "source": [
    "myMixedList"
   ]
  },
  {
   "cell_type": "code",
   "execution_count": 30,
   "id": "2a5238f9-2ada-4da9-bcf5-4f4a9467460c",
   "metadata": {},
   "outputs": [
    {
     "data": {
      "text/plain": [
       "[1, 2, 3]"
      ]
     },
     "execution_count": 30,
     "metadata": {},
     "output_type": "execute_result"
    }
   ],
   "source": [
    "myMixedList[:3]"
   ]
  },
  {
   "cell_type": "code",
   "execution_count": 32,
   "id": "33b64dce-4bbf-436d-95d0-cb62a8cb8067",
   "metadata": {},
   "outputs": [],
   "source": [
    "myNestedList = [1,2,3,[\"a\",\"b\"],[10,20]]"
   ]
  },
  {
   "cell_type": "code",
   "execution_count": 34,
   "id": "007e0b8f-7a65-4b3a-bd72-8b2e402946c8",
   "metadata": {},
   "outputs": [
    {
     "data": {
      "text/plain": [
       "'b'"
      ]
     },
     "execution_count": 34,
     "metadata": {},
     "output_type": "execute_result"
    }
   ],
   "source": [
    "myNestedList[3][1]"
   ]
  },
  {
   "cell_type": "code",
   "execution_count": 36,
   "id": "f278d65b-a041-4627-8414-5d05aa76fb0d",
   "metadata": {},
   "outputs": [],
   "source": [
    "myNestedList[0] = 100"
   ]
  },
  {
   "cell_type": "code",
   "execution_count": 38,
   "id": "51bc038e-0388-4c2c-8a96-4b6b835debbe",
   "metadata": {},
   "outputs": [
    {
     "data": {
      "text/plain": [
       "[100, 2, 3, ['a', 'b'], [10, 20]]"
      ]
     },
     "execution_count": 38,
     "metadata": {},
     "output_type": "execute_result"
    }
   ],
   "source": [
    "myNestedList"
   ]
  },
  {
   "cell_type": "code",
   "execution_count": null,
   "id": "edcc2df6-ad38-40ad-9c9c-9c38c67b2467",
   "metadata": {},
   "outputs": [],
   "source": []
  },
  {
   "cell_type": "code",
   "execution_count": null,
   "id": "6a58dfc0-f1a6-4c9b-ab53-c5725cff18cd",
   "metadata": {},
   "outputs": [],
   "source": [
    "#Dictionary (key-value pairing)"
   ]
  },
  {
   "cell_type": "code",
   "execution_count": 40,
   "id": "f33d456d-8d3f-4a81-ab96-1aace5c784ab",
   "metadata": {},
   "outputs": [],
   "source": [
    "myDictionary = {\"apple\":100,\"banana\":200,\"melon\":300}"
   ]
  },
  {
   "cell_type": "code",
   "execution_count": 42,
   "id": "d280d7de-8a8e-4fec-aa96-66a1725a57d0",
   "metadata": {},
   "outputs": [
    {
     "data": {
      "text/plain": [
       "dict"
      ]
     },
     "execution_count": 42,
     "metadata": {},
     "output_type": "execute_result"
    }
   ],
   "source": [
    "type(myDictionary)"
   ]
  },
  {
   "cell_type": "code",
   "execution_count": 44,
   "id": "8f17a6e6-29cb-4dbd-b511-8ecf16817b4a",
   "metadata": {},
   "outputs": [],
   "source": [
    "myDictionary[\"apple\"] = 200"
   ]
  },
  {
   "cell_type": "code",
   "execution_count": 46,
   "id": "b135b923-52b2-4aaa-916b-7cb2ac0f1173",
   "metadata": {},
   "outputs": [
    {
     "data": {
      "text/plain": [
       "{'apple': 200, 'banana': 200, 'melon': 300}"
      ]
     },
     "execution_count": 46,
     "metadata": {},
     "output_type": "execute_result"
    }
   ],
   "source": [
    "myDictionary"
   ]
  },
  {
   "cell_type": "code",
   "execution_count": 48,
   "id": "c1f6a530-9d5c-4637-863c-93b91a3c7986",
   "metadata": {},
   "outputs": [
    {
     "data": {
      "text/plain": [
       "0"
      ]
     },
     "execution_count": 48,
     "metadata": {},
     "output_type": "execute_result"
    }
   ],
   "source": [
    "myDictionary.get(\"pero\",0)"
   ]
  },
  {
   "cell_type": "code",
   "execution_count": 50,
   "id": "3260d8b9-d9b7-4d78-bb92-af51942192b8",
   "metadata": {},
   "outputs": [
    {
     "data": {
      "text/plain": [
       "300"
      ]
     },
     "execution_count": 50,
     "metadata": {},
     "output_type": "execute_result"
    }
   ],
   "source": [
    "myDictionary.pop(\"melon\")"
   ]
  },
  {
   "cell_type": "code",
   "execution_count": 52,
   "id": "6f8ecce1-75b8-4893-8e13-9dffab3322b2",
   "metadata": {},
   "outputs": [],
   "source": [
    "myDictionary[\"pero\"] = 400"
   ]
  },
  {
   "cell_type": "code",
   "execution_count": 54,
   "id": "86b9a0a0-2237-4dd4-b138-74b46a8edf0b",
   "metadata": {},
   "outputs": [
    {
     "data": {
      "text/plain": [
       "{'apple': 200, 'banana': 200, 'pero': 400}"
      ]
     },
     "execution_count": 54,
     "metadata": {},
     "output_type": "execute_result"
    }
   ],
   "source": [
    "myDictionary"
   ]
  },
  {
   "cell_type": "code",
   "execution_count": 56,
   "id": "1ed01fa4-44bd-4b3a-b044-04cce311988c",
   "metadata": {},
   "outputs": [],
   "source": [
    "myOtherDictionary = {\"a\":100,\"b\":[1,2,3,4,5],\"c\":4.4,\"d\":True}"
   ]
  },
  {
   "cell_type": "code",
   "execution_count": 58,
   "id": "b8afe394-c65d-4f09-8bb2-decfa48dc7e1",
   "metadata": {},
   "outputs": [
    {
     "data": {
      "text/plain": [
       "1"
      ]
     },
     "execution_count": 58,
     "metadata": {},
     "output_type": "execute_result"
    }
   ],
   "source": [
    "myOtherDictionary[\"b\"][0]"
   ]
  },
  {
   "cell_type": "code",
   "execution_count": null,
   "id": "2cde65da-b0f6-43c5-8899-82c6efa792d5",
   "metadata": {},
   "outputs": [],
   "source": []
  },
  {
   "cell_type": "code",
   "execution_count": null,
   "id": "d15546c6-080d-4495-862f-00d46a1a31cc",
   "metadata": {},
   "outputs": [],
   "source": [
    "#set"
   ]
  },
  {
   "cell_type": "code",
   "execution_count": 60,
   "id": "d01f0f4e-bf40-4809-a244-a3cb29b868f6",
   "metadata": {},
   "outputs": [],
   "source": [
    "mySet = {1,2,3,4}"
   ]
  },
  {
   "cell_type": "code",
   "execution_count": 62,
   "id": "6aaedbf0-43fb-47a4-a0ba-6c7358886826",
   "metadata": {},
   "outputs": [
    {
     "data": {
      "text/plain": [
       "set"
      ]
     },
     "execution_count": 62,
     "metadata": {},
     "output_type": "execute_result"
    }
   ],
   "source": [
    "type(mySet)"
   ]
  },
  {
   "cell_type": "code",
   "execution_count": 64,
   "id": "1a381ac1-6913-4bed-a5d1-553c8295e4a5",
   "metadata": {},
   "outputs": [],
   "source": [
    "myEmptySet = set()"
   ]
  },
  {
   "cell_type": "code",
   "execution_count": 66,
   "id": "e2100194-2f72-4f29-a288-97221d67fc9f",
   "metadata": {},
   "outputs": [],
   "source": [
    "mySet = {1,1,1,1,1,2,3}"
   ]
  },
  {
   "cell_type": "code",
   "execution_count": 68,
   "id": "6d2168c2-9eab-44f4-9083-001bed576670",
   "metadata": {},
   "outputs": [
    {
     "data": {
      "text/plain": [
       "{1, 2, 3}"
      ]
     },
     "execution_count": 68,
     "metadata": {},
     "output_type": "execute_result"
    }
   ],
   "source": [
    "mySet"
   ]
  },
  {
   "cell_type": "code",
   "execution_count": 70,
   "id": "db59ea7c-51b0-4bda-aaac-a71c17d55d00",
   "metadata": {},
   "outputs": [],
   "source": [
    "mySet = {\"a\",\"a\",\"a\",\"b\"}"
   ]
  },
  {
   "cell_type": "code",
   "execution_count": 72,
   "id": "48740679-d4d2-4da3-9df8-aae0a36c45f8",
   "metadata": {},
   "outputs": [
    {
     "data": {
      "text/plain": [
       "{'a', 'b'}"
      ]
     },
     "execution_count": 72,
     "metadata": {},
     "output_type": "execute_result"
    }
   ],
   "source": [
    "mySet"
   ]
  },
  {
   "cell_type": "code",
   "execution_count": 74,
   "id": "479388be-dc19-499e-919c-224db241f1c9",
   "metadata": {},
   "outputs": [],
   "source": [
    "mySet.add(\"c\")"
   ]
  },
  {
   "cell_type": "code",
   "execution_count": 76,
   "id": "eb11ed1e-d337-4bb2-8e70-be0d690c6ede",
   "metadata": {},
   "outputs": [
    {
     "data": {
      "text/plain": [
       "{'a', 'b', 'c'}"
      ]
     },
     "execution_count": 76,
     "metadata": {},
     "output_type": "execute_result"
    }
   ],
   "source": [
    "mySet"
   ]
  },
  {
   "cell_type": "code",
   "execution_count": null,
   "id": "0fb6ffdc-b8a6-4ed8-acb9-ed4f7f27b4ca",
   "metadata": {},
   "outputs": [],
   "source": [
    "#tuple"
   ]
  },
  {
   "cell_type": "code",
   "execution_count": 84,
   "id": "1817798f-8a21-4ebb-a844-6abce6c5d765",
   "metadata": {},
   "outputs": [],
   "source": [
    "myList = [1,2,3,4,5,1,2,3]"
   ]
  },
  {
   "cell_type": "code",
   "execution_count": 86,
   "id": "fe7ba2a4-a4c8-4cf7-8e32-8560ec44f705",
   "metadata": {},
   "outputs": [
    {
     "data": {
      "text/plain": [
       "[1, 2, 3, 4, 5, 1, 2, 3]"
      ]
     },
     "execution_count": 86,
     "metadata": {},
     "output_type": "execute_result"
    }
   ],
   "source": [
    "myList"
   ]
  },
  {
   "cell_type": "code",
   "execution_count": 90,
   "id": "e18a9ebb-aec6-4e83-9efa-368cc33a3766",
   "metadata": {},
   "outputs": [],
   "source": [
    "myTuple = (1,2,3,4,5,1,2,3)"
   ]
  },
  {
   "cell_type": "code",
   "execution_count": 92,
   "id": "ea601bc6-6da8-4ef0-bb49-d3cf0c11d0f5",
   "metadata": {},
   "outputs": [
    {
     "data": {
      "text/plain": [
       "(1, 2, 3, 4, 5, 1, 2, 3)"
      ]
     },
     "execution_count": 92,
     "metadata": {},
     "output_type": "execute_result"
    }
   ],
   "source": [
    "myTuple"
   ]
  },
  {
   "cell_type": "code",
   "execution_count": 94,
   "id": "5a960e39-8ca4-48e9-9159-fb7f852c99be",
   "metadata": {},
   "outputs": [
    {
     "data": {
      "text/plain": [
       "2"
      ]
     },
     "execution_count": 94,
     "metadata": {},
     "output_type": "execute_result"
    }
   ],
   "source": [
    "myTuple.count(2)"
   ]
  },
  {
   "cell_type": "code",
   "execution_count": 96,
   "id": "e8849a31-4888-4108-a982-415e4bc63aba",
   "metadata": {},
   "outputs": [],
   "source": [
    "#tuple unpacking"
   ]
  },
  {
   "cell_type": "code",
   "execution_count": 100,
   "id": "a6b743c7-a2c9-4a83-9bce-0cd889cd0f31",
   "metadata": {},
   "outputs": [],
   "source": [
    "(x,y) = (5,4)"
   ]
  },
  {
   "cell_type": "code",
   "execution_count": 102,
   "id": "44272cc7-ca09-44e4-b906-c31b184a1fb6",
   "metadata": {},
   "outputs": [
    {
     "data": {
      "text/plain": [
       "(5, 4)"
      ]
     },
     "execution_count": 102,
     "metadata": {},
     "output_type": "execute_result"
    }
   ],
   "source": [
    "x,y"
   ]
  },
  {
   "cell_type": "code",
   "execution_count": 104,
   "id": "b31028e0-02b8-4ccb-bac0-67e5f300ac8e",
   "metadata": {},
   "outputs": [],
   "source": [
    "myTemp = x"
   ]
  },
  {
   "cell_type": "code",
   "execution_count": 106,
   "id": "12e9aafc-4623-464e-a5e0-f3a94e18369c",
   "metadata": {},
   "outputs": [],
   "source": [
    "x = y"
   ]
  },
  {
   "cell_type": "code",
   "execution_count": 108,
   "id": "fec67b5f-296d-4f14-820d-70baaf76e2f7",
   "metadata": {},
   "outputs": [],
   "source": [
    "y = myTemp"
   ]
  },
  {
   "cell_type": "code",
   "execution_count": 110,
   "id": "2fc8cd86-a816-4af0-bfb3-f94c8a6ff2cf",
   "metadata": {},
   "outputs": [
    {
     "data": {
      "text/plain": [
       "(4, 5)"
      ]
     },
     "execution_count": 110,
     "metadata": {},
     "output_type": "execute_result"
    }
   ],
   "source": [
    "x,y"
   ]
  },
  {
   "cell_type": "code",
   "execution_count": 112,
   "id": "8b63f045-3fab-411c-92e8-1363d02c7e7a",
   "metadata": {},
   "outputs": [],
   "source": [
    "(m,n) = (10,20)\n"
   ]
  },
  {
   "cell_type": "code",
   "execution_count": 114,
   "id": "b956aa25-182f-4db7-bcbd-d5609ca33cb5",
   "metadata": {},
   "outputs": [],
   "source": [
    "(m,n) = (n,m)"
   ]
  },
  {
   "cell_type": "code",
   "execution_count": 116,
   "id": "29f7d722-945f-4109-9ae9-bee0eca1d53f",
   "metadata": {},
   "outputs": [
    {
     "data": {
      "text/plain": [
       "(20, 10)"
      ]
     },
     "execution_count": 116,
     "metadata": {},
     "output_type": "execute_result"
    }
   ],
   "source": [
    "m,n\n"
   ]
  },
  {
   "cell_type": "code",
   "execution_count": null,
   "id": "6fdf44cb-b7d1-4c59-b4f5-25e39d04edf7",
   "metadata": {},
   "outputs": [],
   "source": []
  }
 ],
 "metadata": {
  "kernelspec": {
   "display_name": "Python 3 (ipykernel)",
   "language": "python",
   "name": "python3"
  },
  "language_info": {
   "codemirror_mode": {
    "name": "ipython",
    "version": 3
   },
   "file_extension": ".py",
   "mimetype": "text/x-python",
   "name": "python",
   "nbconvert_exporter": "python",
   "pygments_lexer": "ipython3",
   "version": "3.12.4"
  }
 },
 "nbformat": 4,
 "nbformat_minor": 5
}
