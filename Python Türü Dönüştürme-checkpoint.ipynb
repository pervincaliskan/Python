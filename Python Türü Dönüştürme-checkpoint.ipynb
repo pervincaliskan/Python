{
 "cells": [
  {
   "cell_type": "code",
   "execution_count": 2,
   "id": "81c0231a",
   "metadata": {},
   "outputs": [
    {
     "name": "stdout",
     "output_type": "stream",
     "text": [
      "Tam Numara Türü: <class 'int'>\n",
      "Ondalıkı Numara Tür: <class 'float'>\n",
      "Yeni Numara: 124.23\n",
      "Yeni Numara Türü: <class 'float'>\n"
     ]
    }
   ],
   "source": [
    "num_int = 123\n",
    "num_flo = 1.23\n",
    " \n",
    "num_yeni = num_int + num_flo\n",
    " \n",
    "print(\"Tam Numara Türü:\",type(num_int))\n",
    "print(\"Ondalıkı Numara Tür:\",type(num_flo))\n",
    " \n",
    "print(\"Yeni Numara:\",num_yeni)\n",
    "print(\"Yeni Numara Türü:\",type(num_yeni))\n",
    " "
   ]
  },
  {
   "cell_type": "code",
   "execution_count": 3,
   "id": "672644e0",
   "metadata": {},
   "outputs": [
    {
     "name": "stdout",
     "output_type": "stream",
     "text": [
      "Tam Sayı Türü: <class 'int'>\n",
      "String Türü: <class 'str'>\n"
     ]
    },
    {
     "ename": "TypeError",
     "evalue": "unsupported operand type(s) for +: 'int' and 'str'",
     "output_type": "error",
     "traceback": [
      "\u001b[1;31m---------------------------------------------------------------------------\u001b[0m",
      "\u001b[1;31mTypeError\u001b[0m                                 Traceback (most recent call last)",
      "\u001b[1;32m~\\AppData\\Local\\Temp/ipykernel_14836/3884454868.py\u001b[0m in \u001b[0;36m<module>\u001b[1;34m\u001b[0m\n\u001b[0;32m      5\u001b[0m \u001b[0mprint\u001b[0m\u001b[1;33m(\u001b[0m\u001b[1;34m\"String Türü:\"\u001b[0m\u001b[1;33m,\u001b[0m\u001b[0mtype\u001b[0m\u001b[1;33m(\u001b[0m\u001b[0mnum_str\u001b[0m\u001b[1;33m)\u001b[0m\u001b[1;33m)\u001b[0m\u001b[1;33m\u001b[0m\u001b[1;33m\u001b[0m\u001b[0m\n\u001b[0;32m      6\u001b[0m \u001b[1;33m\u001b[0m\u001b[0m\n\u001b[1;32m----> 7\u001b[1;33m \u001b[0mprint\u001b[0m\u001b[1;33m(\u001b[0m\u001b[0mnum_int\u001b[0m\u001b[1;33m+\u001b[0m\u001b[0mnum_str\u001b[0m\u001b[1;33m)\u001b[0m\u001b[1;33m\u001b[0m\u001b[1;33m\u001b[0m\u001b[0m\n\u001b[0m",
      "\u001b[1;31mTypeError\u001b[0m: unsupported operand type(s) for +: 'int' and 'str'"
     ]
    }
   ],
   "source": [
    "num_int = 123\n",
    "num_str = \"456\"\n",
    " \n",
    "print(\"Tam Sayı Türü:\",type(num_int))\n",
    "print(\"String Türü:\",type(num_str))\n",
    " \n",
    "print(num_int+num_str) #TypeError"
   ]
  },
  {
   "cell_type": "code",
   "execution_count": 4,
   "id": "18531ef3",
   "metadata": {},
   "outputs": [
    {
     "name": "stdout",
     "output_type": "stream",
     "text": [
      "int turu: <class 'int'>\n",
      "string turu : <class 'str'>\n",
      "Type Casting ile tür dönüşümü: <class 'int'>\n",
      "tur dönüşümü ile sayıların toplamı: 579\n",
      "Toplamın türü: <class 'int'>\n"
     ]
    }
   ],
   "source": [
    "#Açık dönüşüm kullanarak String ve Tamsayıyı Toplama\n",
    "num_int = 123\n",
    "num_str = \"456\"\n",
    " \n",
    "print(\"int turu:\",type(num_int))\n",
    "print(\"string turu :\",type(num_str))\n",
    " \n",
    "num_str = int(num_str)\n",
    "print(\"Type Casting ile tür dönüşümü:\",type(num_str))\n",
    " \n",
    "num_sum = num_int + num_str\n",
    " \n",
    "print(\"tur dönüşümü ile sayıların toplamı:\",num_sum)\n",
    "print(\"Toplamın türü:\",type(num_sum))"
   ]
  }
 ],
 "metadata": {
  "kernelspec": {
   "display_name": "Python 3 (ipykernel)",
   "language": "python",
   "name": "python3"
  },
  "language_info": {
   "codemirror_mode": {
    "name": "ipython",
    "version": 3
   },
   "file_extension": ".py",
   "mimetype": "text/x-python",
   "name": "python",
   "nbconvert_exporter": "python",
   "pygments_lexer": "ipython3",
   "version": "3.9.7"
  }
 },
 "nbformat": 4,
 "nbformat_minor": 5
}
