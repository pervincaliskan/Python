{
 "cells": [
  {
   "cell_type": "code",
   "execution_count": null,
   "id": "2ca7a97c-c918-42a4-94ab-da3e6a5e2aad",
   "metadata": {},
   "outputs": [],
   "source": [
    "#range"
   ]
  },
  {
   "cell_type": "code",
   "execution_count": 3,
   "id": "14284d0f-94c1-4b0f-8ecb-7bb5f193ad74",
   "metadata": {},
   "outputs": [
    {
     "data": {
      "text/plain": [
       "[50, 51, 52, 53, 54, 55, 56, 57, 58, 59]"
      ]
     },
     "execution_count": 3,
     "metadata": {},
     "output_type": "execute_result"
    }
   ],
   "source": [
    "list(range(50,60))"
   ]
  },
  {
   "cell_type": "code",
   "execution_count": 5,
   "id": "7400763e-27a4-4464-8362-729782761869",
   "metadata": {},
   "outputs": [
    {
     "data": {
      "text/plain": [
       "(0, 1, 2, 3, 4, 5, 6, 7, 8, 9, 10, 11, 12, 13, 14, 15, 16, 17, 18, 19)"
      ]
     },
     "execution_count": 5,
     "metadata": {},
     "output_type": "execute_result"
    }
   ],
   "source": [
    "tuple(range(0,20))"
   ]
  },
  {
   "cell_type": "code",
   "execution_count": 7,
   "id": "cb78b0c3-af97-4c2c-b787-eb492e2528bb",
   "metadata": {},
   "outputs": [],
   "source": [
    "myList = [0,1,2,3,4,5,6,7,8,9]"
   ]
  },
  {
   "cell_type": "code",
   "execution_count": 9,
   "id": "1d7731a7-2475-4d7c-aa2f-6a64433be1d4",
   "metadata": {},
   "outputs": [
    {
     "name": "stdout",
     "output_type": "stream",
     "text": [
      "0\n",
      "1\n",
      "2\n",
      "3\n",
      "4\n",
      "5\n",
      "6\n",
      "7\n",
      "8\n",
      "9\n"
     ]
    }
   ],
   "source": [
    "for num in range(0,len(myList)):\n",
    "    print(num)"
   ]
  },
  {
   "cell_type": "code",
   "execution_count": 11,
   "id": "5d8d74de-661e-4986-b47d-ea3d78e6d302",
   "metadata": {},
   "outputs": [],
   "source": [
    "myList = [\"a\",\"b\",\"c\",\"d\",\"e\"]"
   ]
  },
  {
   "cell_type": "code",
   "execution_count": 15,
   "id": "fd351516-c479-4104-8d1e-c7552b23d5de",
   "metadata": {},
   "outputs": [
    {
     "name": "stdout",
     "output_type": "stream",
     "text": [
      "a\n",
      "b\n",
      "c\n",
      "d\n",
      "e\n"
     ]
    }
   ],
   "source": [
    "for letter in myList:\n",
    "    print(letter)"
   ]
  },
  {
   "cell_type": "code",
   "execution_count": 17,
   "id": "4de7988a-0d7b-4bd2-8d3f-95626d83406c",
   "metadata": {},
   "outputs": [
    {
     "name": "stdout",
     "output_type": "stream",
     "text": [
      "0\n",
      "1\n",
      "2\n",
      "3\n",
      "4\n"
     ]
    }
   ],
   "source": [
    "for letter in range(0,len(myList)):\n",
    "    print(letter)"
   ]
  },
  {
   "cell_type": "code",
   "execution_count": 13,
   "id": "53f9c8ad-de16-42ff-82b3-a74c3b829e90",
   "metadata": {},
   "outputs": [
    {
     "name": "stdout",
     "output_type": "stream",
     "text": [
      "0\n",
      "1\n"
     ]
    }
   ],
   "source": [
    "for letter in range(0,len(myList)-3):\n",
    "    print(letter)"
   ]
  },
  {
   "cell_type": "code",
   "execution_count": 19,
   "id": "7c1d00f7-18f2-4e81-bfc3-7fd6f1eedfc7",
   "metadata": {},
   "outputs": [
    {
     "data": {
      "text/plain": [
       "[0, 20, 40, 60, 80]"
      ]
     },
     "execution_count": 19,
     "metadata": {},
     "output_type": "execute_result"
    }
   ],
   "source": [
    "list(range(0,100,20))"
   ]
  },
  {
   "cell_type": "code",
   "execution_count": null,
   "id": "bda44677-7ac2-4dd8-bf31-2fefa87c5316",
   "metadata": {},
   "outputs": [],
   "source": []
  },
  {
   "cell_type": "code",
   "execution_count": 21,
   "id": "bd616b40-7092-4b04-b75f-fb04109d9571",
   "metadata": {},
   "outputs": [],
   "source": [
    "#enumerate"
   ]
  },
  {
   "cell_type": "code",
   "execution_count": 23,
   "id": "8a294f78-c23f-4c3f-b03c-ea0935aae1f4",
   "metadata": {},
   "outputs": [],
   "source": [
    "myList = list(range(5,15))\n"
   ]
  },
  {
   "cell_type": "code",
   "execution_count": 25,
   "id": "c6329cb1-5980-42db-9de0-d8dbfa0b8b3b",
   "metadata": {},
   "outputs": [
    {
     "data": {
      "text/plain": [
       "[5, 6, 7, 8, 9, 10, 11, 12, 13, 14]"
      ]
     },
     "execution_count": 25,
     "metadata": {},
     "output_type": "execute_result"
    }
   ],
   "source": [
    "myList"
   ]
  },
  {
   "cell_type": "code",
   "execution_count": 27,
   "id": "aa06db3d-b38a-4e6f-a72a-f593bda05790",
   "metadata": {},
   "outputs": [
    {
     "name": "stdout",
     "output_type": "stream",
     "text": [
      "number: 5 index: 0\n",
      "number: 6 index: 1\n",
      "number: 7 index: 2\n",
      "number: 8 index: 3\n",
      "number: 9 index: 4\n",
      "number: 10 index: 5\n",
      "number: 11 index: 6\n",
      "number: 12 index: 7\n",
      "number: 13 index: 8\n",
      "number: 14 index: 9\n"
     ]
    }
   ],
   "source": [
    "index = 0\n",
    "for number in myList:\n",
    "    print(f\"number: {number} index: {index}\")\n",
    "    index += 1"
   ]
  },
  {
   "cell_type": "code",
   "execution_count": 29,
   "id": "9a3e0a18-d4bb-4a3b-92d6-848ca8bdbfa8",
   "metadata": {},
   "outputs": [
    {
     "name": "stdout",
     "output_type": "stream",
     "text": [
      "(0, 5)\n",
      "(1, 6)\n",
      "(2, 7)\n",
      "(3, 8)\n",
      "(4, 9)\n",
      "(5, 10)\n",
      "(6, 11)\n",
      "(7, 12)\n",
      "(8, 13)\n",
      "(9, 14)\n"
     ]
    }
   ],
   "source": [
    "for element in enumerate(myList):\n",
    "    print(element)"
   ]
  },
  {
   "cell_type": "code",
   "execution_count": 31,
   "id": "b3789f81-c5c3-460a-9983-91f9cf228ac3",
   "metadata": {},
   "outputs": [
    {
     "name": "stdout",
     "output_type": "stream",
     "text": [
      "index: 0 number: 5\n",
      "index: 1 number: 6\n",
      "index: 2 number: 7\n",
      "index: 3 number: 8\n",
      "index: 4 number: 9\n",
      "index: 5 number: 10\n",
      "index: 6 number: 11\n",
      "index: 7 number: 12\n",
      "index: 8 number: 13\n",
      "index: 9 number: 14\n"
     ]
    }
   ],
   "source": [
    "for (index,number) in enumerate(myList):\n",
    "    print(f\"index: {index} number: {number}\")"
   ]
  },
  {
   "cell_type": "code",
   "execution_count": 33,
   "id": "225cc34f-123b-488f-878a-4a4330ef6103",
   "metadata": {},
   "outputs": [],
   "source": [
    "newList = []"
   ]
  },
  {
   "cell_type": "code",
   "execution_count": 35,
   "id": "010e820d-126d-4927-bee2-5774f09e300f",
   "metadata": {},
   "outputs": [],
   "source": [
    "myString = \"perocaliskan\""
   ]
  },
  {
   "cell_type": "code",
   "execution_count": 37,
   "id": "ee7b9f83-d3a4-47d3-b950-9aec67796386",
   "metadata": {},
   "outputs": [],
   "source": [
    "for element in myString:\n",
    "    newList.append(element)"
   ]
  },
  {
   "cell_type": "code",
   "execution_count": 39,
   "id": "c9955c76-3860-4e7b-ad66-22cfb9420a92",
   "metadata": {},
   "outputs": [
    {
     "data": {
      "text/plain": [
       "['p', 'e', 'r', 'o', 'c', 'a', 'l', 'i', 's', 'k', 'a', 'n']"
      ]
     },
     "execution_count": 39,
     "metadata": {},
     "output_type": "execute_result"
    }
   ],
   "source": [
    "newList"
   ]
  },
  {
   "cell_type": "code",
   "execution_count": 41,
   "id": "f44c0ea3-9df6-413a-9c30-a59e0fb6ee4e",
   "metadata": {},
   "outputs": [],
   "source": [
    "#one liner"
   ]
  },
  {
   "cell_type": "code",
   "execution_count": 43,
   "id": "2efcbb6f-da53-4eff-a6b3-406415ccda2e",
   "metadata": {},
   "outputs": [],
   "source": [
    "newList = [element for element in myString]"
   ]
  },
  {
   "cell_type": "code",
   "execution_count": 45,
   "id": "3cb602af-c65a-4f14-b48f-7f89c2fc56db",
   "metadata": {},
   "outputs": [
    {
     "data": {
      "text/plain": [
       "['p', 'e', 'r', 'o', 'c', 'a', 'l', 'i', 's', 'k', 'a', 'n']"
      ]
     },
     "execution_count": 45,
     "metadata": {},
     "output_type": "execute_result"
    }
   ],
   "source": [
    "newList"
   ]
  },
  {
   "cell_type": "code",
   "execution_count": 47,
   "id": "43ef1c7c-c838-452b-9223-7174735c4ef5",
   "metadata": {},
   "outputs": [],
   "source": [
    "#functions"
   ]
  },
  {
   "cell_type": "code",
   "execution_count": 49,
   "id": "003006f5-66c6-4c0f-bfb5-d61675b7b25e",
   "metadata": {},
   "outputs": [],
   "source": [
    "def helloPython():\n",
    "    print(\"hello\")\n",
    "    print(\"world\")\n",
    "    print(\"python\")"
   ]
  },
  {
   "cell_type": "code",
   "execution_count": 51,
   "id": "00792750-1fdc-40a2-b0a0-e522cb873939",
   "metadata": {},
   "outputs": [
    {
     "name": "stdout",
     "output_type": "stream",
     "text": [
      "hello\n",
      "world\n",
      "python\n"
     ]
    }
   ],
   "source": [
    "helloPython()"
   ]
  },
  {
   "cell_type": "code",
   "execution_count": 53,
   "id": "e81faad2-3d94-484b-bc22-26cec3b1ecfb",
   "metadata": {},
   "outputs": [],
   "source": [
    "def helloName(name):\n",
    "    print(f\"hello {name}\")"
   ]
  },
  {
   "cell_type": "code",
   "execution_count": 55,
   "id": "0aa430b5-1a15-4b4e-8615-d994f96e9cdd",
   "metadata": {},
   "outputs": [
    {
     "name": "stdout",
     "output_type": "stream",
     "text": [
      "hello pero\n"
     ]
    }
   ],
   "source": [
    "helloName(\"pero\")"
   ]
  },
  {
   "cell_type": "code",
   "execution_count": 57,
   "id": "cb060ff4-77e5-4052-bd8b-d25c18b9b281",
   "metadata": {},
   "outputs": [
    {
     "name": "stdout",
     "output_type": "stream",
     "text": [
      "hello james\n"
     ]
    }
   ],
   "source": [
    "helloName(\"james\")"
   ]
  },
  {
   "cell_type": "code",
   "execution_count": 59,
   "id": "fd8febea-bb81-458d-9603-61c135d02cd4",
   "metadata": {},
   "outputs": [],
   "source": [
    "def pythonSum(number1,number2):\n",
    "    print(number1+number2)"
   ]
  },
  {
   "cell_type": "code",
   "execution_count": 61,
   "id": "3dc12344-c7bd-43de-8edb-3fb4e362bab1",
   "metadata": {},
   "outputs": [
    {
     "name": "stdout",
     "output_type": "stream",
     "text": [
      "20\n"
     ]
    }
   ],
   "source": [
    "pythonSum(5,15)"
   ]
  },
  {
   "cell_type": "code",
   "execution_count": 63,
   "id": "a1c07494-bddb-40a2-843f-bec6bfaad7e0",
   "metadata": {},
   "outputs": [
    {
     "name": "stdout",
     "output_type": "stream",
     "text": [
      "30\n"
     ]
    }
   ],
   "source": [
    "x = pythonSum(10,20)"
   ]
  },
  {
   "cell_type": "code",
   "execution_count": 65,
   "id": "c54db404-b69b-456f-96d5-7c4294d8496d",
   "metadata": {},
   "outputs": [],
   "source": [
    "x"
   ]
  },
  {
   "cell_type": "code",
   "execution_count": 67,
   "id": "5d7878d0-92b7-47f8-9960-f91c6954df38",
   "metadata": {},
   "outputs": [
    {
     "data": {
      "text/plain": [
       "NoneType"
      ]
     },
     "execution_count": 67,
     "metadata": {},
     "output_type": "execute_result"
    }
   ],
   "source": [
    "type(x)"
   ]
  },
  {
   "cell_type": "code",
   "execution_count": 69,
   "id": "245b34c8-f54a-49af-97d1-aad14efecc0d",
   "metadata": {},
   "outputs": [
    {
     "name": "stdout",
     "output_type": "stream",
     "text": [
      "x is None\n"
     ]
    }
   ],
   "source": [
    "if x:\n",
    "    print(x)\n",
    "else:\n",
    "    print(\"x is None\")"
   ]
  },
  {
   "cell_type": "code",
   "execution_count": 71,
   "id": "88686aae-7187-44a2-8ff1-4e6e71a3c807",
   "metadata": {},
   "outputs": [],
   "source": [
    "def returnSum(num1,num2,num3):\n",
    "    print(num1+num2+num3)\n",
    "    return num1+num2+num3"
   ]
  },
  {
   "cell_type": "code",
   "execution_count": 73,
   "id": "383b3921-ff51-42a0-b1af-4a164aed31d4",
   "metadata": {},
   "outputs": [
    {
     "name": "stdout",
     "output_type": "stream",
     "text": [
      "60\n"
     ]
    }
   ],
   "source": [
    "x = returnSum(10,20,30)"
   ]
  },
  {
   "cell_type": "code",
   "execution_count": 75,
   "id": "a3d903de-ee88-4a6a-9a9c-df1986a6b5b4",
   "metadata": {},
   "outputs": [
    {
     "data": {
      "text/plain": [
       "int"
      ]
     },
     "execution_count": 75,
     "metadata": {},
     "output_type": "execute_result"
    }
   ],
   "source": [
    "type(x)"
   ]
  },
  {
   "cell_type": "code",
   "execution_count": 77,
   "id": "08b40851-4ff0-4d0f-b034-7e2d37d9a633",
   "metadata": {},
   "outputs": [],
   "source": [
    "def stringCheck(s):\n",
    "    if s == \"pervin\":\n",
    "        print(\"pervin\")\n",
    "    else:\n",
    "        print(\"not pervin\")"
   ]
  },
  {
   "cell_type": "code",
   "execution_count": 79,
   "id": "a8d32bdc-a78e-42c0-8d8b-10c0cde43a74",
   "metadata": {},
   "outputs": [
    {
     "name": "stdout",
     "output_type": "stream",
     "text": [
      "not pervin\n"
     ]
    }
   ],
   "source": [
    "stringCheck(\"canim\")"
   ]
  },
  {
   "cell_type": "code",
   "execution_count": 83,
   "id": "daf9364b-7ea6-4160-9886-d5cb9a2820a7",
   "metadata": {},
   "outputs": [],
   "source": [
    "def defaultValueFunction(name=\"pervin\"):\n",
    "    print(name)"
   ]
  },
  {
   "cell_type": "code",
   "execution_count": 85,
   "id": "cad7f285-0602-411a-b007-98e06fb3a8f9",
   "metadata": {},
   "outputs": [
    {
     "name": "stdout",
     "output_type": "stream",
     "text": [
      "James\n"
     ]
    }
   ],
   "source": [
    "defaultValueFunction(\"James\")"
   ]
  },
  {
   "cell_type": "code",
   "execution_count": 87,
   "id": "bd578094-61db-4ae9-beb6-e136626b8097",
   "metadata": {},
   "outputs": [
    {
     "name": "stdout",
     "output_type": "stream",
     "text": [
      "per\n"
     ]
    }
   ],
   "source": [
    "defaultValueFunction(\"per\")"
   ]
  },
  {
   "cell_type": "code",
   "execution_count": null,
   "id": "d5b3a045-f6bb-47d1-91fd-59a0a66fe116",
   "metadata": {},
   "outputs": [],
   "source": []
  }
 ],
 "metadata": {
  "kernelspec": {
   "display_name": "Python 3 (ipykernel)",
   "language": "python",
   "name": "python3"
  },
  "language_info": {
   "codemirror_mode": {
    "name": "ipython",
    "version": 3
   },
   "file_extension": ".py",
   "mimetype": "text/x-python",
   "name": "python",
   "nbconvert_exporter": "python",
   "pygments_lexer": "ipython3",
   "version": "3.12.4"
  }
 },
 "nbformat": 4,
 "nbformat_minor": 5
}
