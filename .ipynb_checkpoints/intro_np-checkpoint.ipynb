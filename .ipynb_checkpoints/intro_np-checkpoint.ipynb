{
 "cells": [
  {
   "cell_type": "code",
   "execution_count": null,
   "id": "389c8157-70f9-4bf8-9ed1-854cfcf0c072",
   "metadata": {},
   "outputs": [],
   "source": [
    "a = [1,2,3,4]\n",
    "b = [2,3,4,5]"
   ]
  },
  {
   "cell_type": "code",
   "execution_count": null,
   "id": "3634990c-60bc-49ca-b2d3-a02939fbc4e0",
   "metadata": {},
   "outputs": [],
   "source": [
    "b = []                        \n",
    "\n",
    "for i in range(0, len(a)):\n",
    "  ab.append(a[i]*b[i])\n",
    "\n",
    "ab"
   ]
  },
  {
   "cell_type": "markdown",
   "id": "6716f89d-e7b3-4da8-b49b-d26d204503a0",
   "metadata": {},
   "source": [
    "[2, 6, 12, 20]\n"
   ]
  },
  {
   "cell_type": "code",
   "execution_count": null,
   "id": "30154f62-2172-4e79-8a95-674c49addfec",
   "metadata": {},
   "outputs": [],
   "source": [
    "import numpy as np"
   ]
  },
  {
   "cell_type": "code",
   "execution_count": null,
   "id": "beeb3471-87cb-41a5-b12c-dd57a0c41ba5",
   "metadata": {},
   "outputs": [],
   "source": [
    "a = np.array([1,2,3,4])\n",
    "b = np.array([2,3,4,5])"
   ]
  },
  {
   "cell_type": "code",
   "execution_count": null,
   "id": "ddb0f8f8-1211-422c-adf7-054b4b921312",
   "metadata": {},
   "outputs": [],
   "source": [
    "a * b"
   ]
  },
  {
   "cell_type": "markdown",
   "id": "0a7daae8-cf50-412e-99e3-bb5958a0c7d6",
   "metadata": {},
   "source": [
    "array([ 2,  6, 12, 20])"
   ]
  }
 ],
 "metadata": {
  "kernelspec": {
   "display_name": "Python 3 (ipykernel)",
   "language": "python",
   "name": "python3"
  },
  "language_info": {
   "codemirror_mode": {
    "name": "ipython",
    "version": 3
   },
   "file_extension": ".py",
   "mimetype": "text/x-python",
   "name": "python",
   "nbconvert_exporter": "python",
   "pygments_lexer": "ipython3",
   "version": "3.9.7"
  }
 },
 "nbformat": 4,
 "nbformat_minor": 5
}
