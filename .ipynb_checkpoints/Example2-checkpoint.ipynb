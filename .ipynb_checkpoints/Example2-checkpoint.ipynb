{
 "cells": [
  {
   "cell_type": "code",
   "execution_count": null,
   "id": "2d8c3cb8-721d-41c8-a42b-86516df65d19",
   "metadata": {},
   "outputs": [],
   "source": [
    "#List"
   ]
  },
  {
   "cell_type": "code",
   "execution_count": 1,
   "id": "9c8371e0-1aeb-4ae5-980a-dfeae7498042",
   "metadata": {},
   "outputs": [],
   "source": [
    "myList = [1,2,3,4,5,6,7]"
   ]
  },
  {
   "cell_type": "code",
   "execution_count": 3,
   "id": "a2140731-fa4b-41b9-bc1d-228268f2ee1e",
   "metadata": {},
   "outputs": [
    {
     "data": {
      "text/plain": [
       "list"
      ]
     },
     "execution_count": 3,
     "metadata": {},
     "output_type": "execute_result"
    }
   ],
   "source": [
    "type(myList)"
   ]
  },
  {
   "cell_type": "code",
   "execution_count": 6,
   "id": "cade63e8-8a72-4fc8-801b-4ccfa339fd3a",
   "metadata": {},
   "outputs": [],
   "source": [
    "myOtherList = list()"
   ]
  },
  {
   "cell_type": "code",
   "execution_count": null,
   "id": "c281c144-9e57-48f7-9b18-0b57bc5792b1",
   "metadata": {},
   "outputs": [],
   "source": [
    "myOtherList.append(\"a\")"
   ]
  }
 ],
 "metadata": {
  "kernelspec": {
   "display_name": "Python 3 (ipykernel)",
   "language": "python",
   "name": "python3"
  },
  "language_info": {
   "codemirror_mode": {
    "name": "ipython",
    "version": 3
   },
   "file_extension": ".py",
   "mimetype": "text/x-python",
   "name": "python",
   "nbconvert_exporter": "python",
   "pygments_lexer": "ipython3",
   "version": "3.12.4"
  }
 },
 "nbformat": 4,
 "nbformat_minor": 5
}
