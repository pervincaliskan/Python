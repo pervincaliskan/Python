{
 "cells": [
  {
   "cell_type": "code",
   "execution_count": null,
   "id": "7cd9ee53-76ba-4038-9007-05bc65443fb4",
   "metadata": {},
   "outputs": [],
   "source": [
    "#ControlFlowLoop"
   ]
  },
  {
   "cell_type": "code",
   "execution_count": 1,
   "id": "483fbde3-d44a-43b2-a003-bec4b8bfaa17",
   "metadata": {},
   "outputs": [
    {
     "data": {
      "text/plain": [
       "True"
      ]
     },
     "execution_count": 1,
     "metadata": {},
     "output_type": "execute_result"
    }
   ],
   "source": [
    "4 > 3"
   ]
  },
  {
   "cell_type": "code",
   "execution_count": 3,
   "id": "3d3b8022-357f-4ac0-b908-470135eaece6",
   "metadata": {},
   "outputs": [
    {
     "data": {
      "text/plain": [
       "False"
      ]
     },
     "execution_count": 3,
     "metadata": {},
     "output_type": "execute_result"
    }
   ],
   "source": [
    "4 < 3"
   ]
  },
  {
   "cell_type": "code",
   "execution_count": 5,
   "id": "be6d489e-ce0b-4b58-a3d4-db6c187a507a",
   "metadata": {},
   "outputs": [
    {
     "data": {
      "text/plain": [
       "True"
      ]
     },
     "execution_count": 5,
     "metadata": {},
     "output_type": "execute_result"
    }
   ],
   "source": [
    "4 == 4"
   ]
  },
  {
   "cell_type": "code",
   "execution_count": null,
   "id": "7ab4391d-f433-4cfa-ace5-f0fa83d97a6c",
   "metadata": {},
   "outputs": [],
   "source": [
    "#remainder"
   ]
  },
  {
   "cell_type": "code",
   "execution_count": 7,
   "id": "4bae5e7e-b017-4526-b7cd-2c50de975957",
   "metadata": {},
   "outputs": [
    {
     "data": {
      "text/plain": [
       "2"
      ]
     },
     "execution_count": 7,
     "metadata": {},
     "output_type": "execute_result"
    }
   ],
   "source": [
    "10%4"
   ]
  },
  {
   "cell_type": "code",
   "execution_count": 9,
   "id": "bb23885b-1d17-4d64-b3ef-aae7cf2a936f",
   "metadata": {},
   "outputs": [],
   "source": [
    "x = 10"
   ]
  },
  {
   "cell_type": "code",
   "execution_count": 11,
   "id": "beeafb1b-9112-4d58-8455-1f1a8c7b9b57",
   "metadata": {},
   "outputs": [
    {
     "name": "stdout",
     "output_type": "stream",
     "text": [
      "0 > x >= 30\n"
     ]
    }
   ],
   "source": [
    "if x > 0 and x <= 30:\n",
    "    print(\"0 > x >= 30\")\n",
    "elif x > 30 and x <= 40:\n",
    "    print(\"30 > x >= 40\")\n",
    "else:\n",
    "    print(\"x > 40\")"
   ]
  },
  {
   "cell_type": "code",
   "execution_count": 13,
   "id": "ee9528b5-bc1e-403c-9f49-2f5d8bf455a6",
   "metadata": {},
   "outputs": [],
   "source": [
    "age = 35"
   ]
  },
  {
   "cell_type": "code",
   "execution_count": 15,
   "id": "ed49ebbb-e370-4173-bace-1e6bdd5a362f",
   "metadata": {},
   "outputs": [
    {
     "name": "stdout",
     "output_type": "stream",
     "text": [
      "my age is : 35\n"
     ]
    }
   ],
   "source": [
    "print(f\"my age is : {age}\") #formatted string"
   ]
  },
  {
   "cell_type": "code",
   "execution_count": 17,
   "id": "537f2370-e0ec-44cf-ae1b-76aa2f65a446",
   "metadata": {},
   "outputs": [],
   "source": [
    "myList = [10,20,30,40,50,60]"
   ]
  },
  {
   "cell_type": "code",
   "execution_count": 19,
   "id": "fe113b3b-bbe0-4171-b401-7e7c57906394",
   "metadata": {},
   "outputs": [
    {
     "name": "stdout",
     "output_type": "stream",
     "text": [
      "15.0\n",
      "30.0\n",
      "45.0\n",
      "60.0\n",
      "75.0\n",
      "90.0\n",
      "loop ended\n"
     ]
    }
   ],
   "source": [
    "for number in myList:\n",
    "    print(number / 2 * 3)\n",
    "print(\"loop ended\")"
   ]
  },
  {
   "cell_type": "code",
   "execution_count": 21,
   "id": "d2f36622-b10f-4c12-a5a2-4db75c36b075",
   "metadata": {},
   "outputs": [
    {
     "data": {
      "text/plain": [
       "True"
      ]
     },
     "execution_count": 21,
     "metadata": {},
     "output_type": "execute_result"
    }
   ],
   "source": [
    "40 in myList"
   ]
  },
  {
   "cell_type": "code",
   "execution_count": 23,
   "id": "f2f91ad7-233a-4cdf-811d-3276fc723d42",
   "metadata": {},
   "outputs": [
    {
     "data": {
      "text/plain": [
       "True"
      ]
     },
     "execution_count": 23,
     "metadata": {},
     "output_type": "execute_result"
    }
   ],
   "source": [
    "\"a\" in \"metallica\""
   ]
  },
  {
   "cell_type": "code",
   "execution_count": 27,
   "id": "1e8b0a27-aae2-447e-9232-864f55f34b0b",
   "metadata": {},
   "outputs": [],
   "source": [
    "m = 0"
   ]
  },
  {
   "cell_type": "code",
   "execution_count": 29,
   "id": "447c8c72-9bb1-421d-b56b-4ee17fa23821",
   "metadata": {},
   "outputs": [
    {
     "name": "stdout",
     "output_type": "stream",
     "text": [
      "0\n",
      "1\n",
      "2\n",
      "3\n",
      "4\n",
      "5\n",
      "6\n",
      "7\n",
      "8\n",
      "9\n"
     ]
    }
   ],
   "source": [
    "while m < 10:\n",
    "    print(m)\n",
    "    m += 1"
   ]
  },
  {
   "cell_type": "code",
   "execution_count": null,
   "id": "2dd72847-1f67-4864-8056-d2822d0e1e23",
   "metadata": {},
   "outputs": [],
   "source": []
  }
 ],
 "metadata": {
  "kernelspec": {
   "display_name": "Python 3 (ipykernel)",
   "language": "python",
   "name": "python3"
  },
  "language_info": {
   "codemirror_mode": {
    "name": "ipython",
    "version": 3
   },
   "file_extension": ".py",
   "mimetype": "text/x-python",
   "name": "python",
   "nbconvert_exporter": "python",
   "pygments_lexer": "ipython3",
   "version": "3.12.4"
  }
 },
 "nbformat": 4,
 "nbformat_minor": 5
}
